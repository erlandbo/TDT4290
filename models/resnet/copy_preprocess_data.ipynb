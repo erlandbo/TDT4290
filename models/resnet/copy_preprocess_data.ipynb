{
 "cells": [
  {
   "cell_type": "code",
   "execution_count": 22,
   "id": "a055f679-867c-42ca-8570-732399c2ba5e",
   "metadata": {},
   "outputs": [],
   "source": [
    "import pandas as pd\n",
    "import librosa\n",
    "import soundfile as sf\n",
    "import os"
   ]
  },
  {
   "cell_type": "code",
   "execution_count": 23,
   "id": "4e6286e8-321f-48ff-b3ed-bbbeaf8945a0",
   "metadata": {},
   "outputs": [],
   "source": [
    "datasets = [\n",
    "    {\"audio\": '../../data/audio_22092022.WAV', \"lidar_log\": \"../../data/lidar_data_with_audio_timestamps_22_09_22.csv\"},\n",
    "    {\"audio\": '../../data/audio_27092022_1.WAV', \"lidar_log\": \"../../data/lidar_data_with_audio_timestamps_27_09_22_1.csv\"},\n",
    "    {\"audio\": '../../data/audio_27092022_2.WAV', \"lidar_log\": \"../../data/lidar_data_with_audio_timestamps_27_2.csv\"},\n",
    "    {\"audio\": '../../data/audio_21102022_1.WAV', \"lidar_log\": \"../../data/lidar_data_with_audio_timestamps_oct_21_1.csv\"},\n",
    "    {\"audio\": '../../data/audio_21102022_2.WAV', \"lidar_log\": \"../../data/lidar_data_with_audio_timestamps_oct_21_2.csv\"}\n",
    "]\n",
    "\n",
    "TRAIN_DATA_PATH = './data/train'\n",
    "VALID_DATA_PATH = './data/valid'"
   ]
  },
  {
   "cell_type": "code",
   "execution_count": 24,
   "id": "62618e29",
   "metadata": {},
   "outputs": [],
   "source": [
    "#Clear data dir\n",
    "import os\n",
    "import glob\n",
    "\n",
    "files = glob.glob(f'{TRAIN_DATA_PATH}/*')\n",
    "for f in files:\n",
    "    os.remove(f)\n",
    "files = glob.glob(f'{VALID_DATA_PATH}/*')\n",
    "for f in files:\n",
    "    os.remove(f)"
   ]
  },
  {
   "cell_type": "code",
   "execution_count": 25,
   "id": "34286b93",
   "metadata": {},
   "outputs": [
    {
     "name": "stdout",
     "output_type": "stream",
     "text": [
      "Generating dataset for ../../data/lidar_data_with_audio_timestamps_22_09_22.csv ../../data/audio_22092022.WAV\n",
      "Finished dataset for ../../data/lidar_data_with_audio_timestamps_22_09_22.csv Generated total 534 samples\n",
      "Generating dataset for ../../data/lidar_data_with_audio_timestamps_27_09_22_1.csv ../../data/audio_27092022_1.WAV\n",
      "Finished dataset for ../../data/lidar_data_with_audio_timestamps_27_09_22_1.csv Generated total 974 samples\n",
      "Generating dataset for ../../data/lidar_data_with_audio_timestamps_27_2.csv ../../data/audio_27092022_2.WAV\n",
      "Finished dataset for ../../data/lidar_data_with_audio_timestamps_27_2.csv Generated total 1798 samples\n",
      "Generating dataset for ../../data/lidar_data_with_audio_timestamps_oct_21_1.csv ../../data/audio_21102022_1.WAV\n",
      "Finished dataset for ../../data/lidar_data_with_audio_timestamps_oct_21_1.csv Generated total 2330 samples\n",
      "Generating dataset for ../../data/lidar_data_with_audio_timestamps_oct_21_2.csv ../../data/audio_21102022_2.WAV\n",
      "Finished dataset for ../../data/lidar_data_with_audio_timestamps_oct_21_2.csv Generated total 2713 samples\n"
     ]
    }
   ],
   "source": [
    "start_index = 0\n",
    "all_train = pd.DataFrame()\n",
    "all_valid = pd.DataFrame()\n",
    "for dataset in datasets:\n",
    "    print(\"Generating dataset for\", dataset[\"lidar_log\"], dataset[\"audio\"])\n",
    "    audio_file = dataset[\"audio\"]\n",
    "    lidar_log = pd.read_csv(dataset[\"lidar_log\"])\n",
    "    lidar_log.drop([\"Unnamed: 0\"], axis=1)\n",
    "    \n",
    "    y, sr = librosa.load(audio_file, sr=None)\n",
    "    audio_length = librosa.get_duration(y=y, sr=sr)\n",
    "    \n",
    "    lidar_log = lidar_log[(lidar_log[\"audio_start_s\"] >= 0) & (lidar_log[\"audio_end_s\"] <= audio_length)].reset_index(drop=True)\n",
    "    lidar_log[\"filename\"] = \"None\"\n",
    "    lidar_log[\"train\"] = \"True\"\n",
    "    \n",
    "    for i, row in lidar_log.iterrows():\n",
    "        start, end = row[\"audio_start_s\"], row[\"audio_end_s\"]\n",
    "        start = round(start*sr)\n",
    "        end = round(end*sr)\n",
    "        file_index = i + start_index\n",
    "\n",
    "        if i / len(lidar_log) < 0.8:\n",
    "            filename = f\"train_{file_index}.wav\"\n",
    "            wavpath = f\"{TRAIN_DATA_PATH}/train_{file_index}.wav\"\n",
    "        else:\n",
    "            filename = f\"valid_{file_index}.wav\"\n",
    "            wavpath = f\"{VALID_DATA_PATH}/valid_{file_index}.wav\"\n",
    "            lidar_log.loc[i, \"train\"] = \"False\"\n",
    "\n",
    "        lidar_log.loc[i, \"filename\"] = filename\n",
    "        assert start > 0\n",
    "        assert end < len(y)\n",
    "        sf.write(wavpath, y[start:end], sr, 'PCM_24')  # slice by seconds, seconds in audio = SR * seconds\n",
    "    \n",
    "    train = lidar_log[lidar_log[\"train\"]==\"True\"]\n",
    "    valid = lidar_log[lidar_log[\"train\"]==\"False\"].reset_index(drop=True)\n",
    "    \n",
    "    all_train = pd.concat([all_train, train])\n",
    "    all_valid = pd.concat([all_valid, valid])\n",
    "        \n",
    "    start_index = start_index + len(lidar_log.index)\n",
    "    print(\"Finished dataset for\", dataset[\"lidar_log\"], \"Generated total\", start_index, \"samples\")\n",
    "        \n",
    "all_train.to_csv(f\"{TRAIN_DATA_PATH}/train.csv\", header=True)\n",
    "all_valid.to_csv(f\"{VALID_DATA_PATH}/valid.csv\", header=True)"
   ]
  }
 ],
 "metadata": {
  "kernelspec": {
   "display_name": "Python 3 (ipykernel)",
   "language": "python",
   "name": "python3"
  },
  "language_info": {
   "codemirror_mode": {
    "name": "ipython",
    "version": 3
   },
   "file_extension": ".py",
   "mimetype": "text/x-python",
   "name": "python",
   "nbconvert_exporter": "python",
   "pygments_lexer": "ipython3",
   "version": "3.10.6"
  },
  "vscode": {
   "interpreter": {
    "hash": "916dbcbb3f70747c44a77c7bcd40155683ae19c65e1c03b4aa3499c5328201f1"
   }
  }
 },
 "nbformat": 4,
 "nbformat_minor": 5
}
