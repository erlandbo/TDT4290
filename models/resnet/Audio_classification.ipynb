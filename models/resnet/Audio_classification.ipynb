{
 "cells": [
  {
   "cell_type": "markdown",
   "id": "1bd37c4b",
   "metadata": {},
   "source": [
    "# Audio classification using resnet"
   ]
  },
  {
   "cell_type": "code",
   "execution_count": 2,
   "id": "50f370f4",
   "metadata": {},
   "outputs": [],
   "source": [
    "from src.audio_dataset import AudioClassificationDataset\n",
    "from src.train import train_classification, lr_decay\n",
    "from torch.utils.data import DataLoader\n",
    "from pathlib import Path\n",
    "import pandas as pd\n",
    "import torch\n",
    "from torchvision.models import resnet34, resnet50, resnet101\n",
    "import torch.nn as nn\n",
    "import torch.optim as optim\n",
    "import matplotlib.pyplot as plt\n",
    "import numpy as np"
   ]
  },
  {
   "cell_type": "markdown",
   "id": "3d49990d",
   "metadata": {},
   "source": [
    "## Load dataset"
   ]
  },
  {
   "cell_type": "code",
   "execution_count": 4,
   "id": "33fc9465",
   "metadata": {},
   "outputs": [],
   "source": [
    "num_classes = 3 # 3 / 5"
   ]
  },
  {
   "cell_type": "code",
   "execution_count": 5,
   "id": "0e4a6864",
   "metadata": {},
   "outputs": [
    {
     "name": "stderr",
     "output_type": "stream",
     "text": [
      "100%|██████████| 2173/2173 [00:49<00:00, 43.83it/s]\n",
      "100%|██████████| 540/540 [00:11<00:00, 45.56it/s]\n"
     ]
    }
   ],
   "source": [
    "path = str(Path.cwd())\n",
    "train_path = path + \"/data/train/\"\n",
    "valid_path = path + \"/data/valid/\"\n",
    "\n",
    "train_data = pd.read_csv(train_path + \"train.csv\")#[:200]\n",
    "valid_data = pd.read_csv(valid_path + \"valid.csv\")#[:40]\n",
    "\n",
    "if num_classes == 3:\n",
    "    train_data[\"class\"] = train_data[\"class_1\"]\n",
    "    valid_data[\"class\"] = valid_data[\"class_1\"]\n",
    "else:\n",
    "    train_data[\"class\"] = train_data[\"class_2\"]\n",
    "    valid_data[\"class\"] = valid_data[\"class_2\"]\n",
    "\n",
    "train_data_set = AudioClassificationDataset(train_path, train_data, in_featr='filename', out_featr='class')\n",
    "valid_data_set = AudioClassificationDataset(valid_path, valid_data, in_featr='filename', out_featr='class')\n",
    "\n",
    "train_loader = DataLoader(train_data_set, batch_size=16, shuffle=True)\n",
    "valid_loader = DataLoader(valid_data_set, batch_size=16, shuffle=True)"
   ]
  },
  {
   "cell_type": "markdown",
   "id": "eec9aea7",
   "metadata": {},
   "source": [
    "## Set up ResNet model"
   ]
  },
  {
   "cell_type": "code",
   "execution_count": 6,
   "id": "1cab0751",
   "metadata": {},
   "outputs": [],
   "source": [
    "device = torch.device('cuda:0') if torch.cuda.is_available() else torch.device('cpu')     \n",
    "resnet_model = resnet34(weights=\"DEFAULT\")\n",
    "resnet_model.fc = nn.Sequential(nn.Linear(512,512),\n",
    "                                nn.Linear(512,512),\n",
    "                                nn.Linear(512, num_classes))\n",
    "resnet_model.conv1 = nn.Conv2d(1, 64, kernel_size=(7, 7), stride=(4, 4), padding=(3, 3), bias=False)\n",
    "resnet_model = resnet_model.to(device)"
   ]
  },
  {
   "cell_type": "markdown",
   "id": "23df5662",
   "metadata": {},
   "source": [
    "## Train Model"
   ]
  },
  {
   "cell_type": "code",
   "execution_count": 7,
   "id": "d25c5ac0",
   "metadata": {
    "scrolled": false
   },
   "outputs": [
    {
     "name": "stderr",
     "output_type": "stream",
     "text": [
      "\r",
      "  0%|          | 0/50 [00:00<?, ?it/s]"
     ]
    },
    {
     "name": "stdout",
     "output_type": "stream",
     "text": [
      "Epoch - 1 Train-Loss : 0.4723948690054171\n"
     ]
    },
    {
     "name": "stderr",
     "output_type": "stream",
     "text": [
      "\r",
      "  2%|▏         | 1/50 [00:16<13:34, 16.62s/it]"
     ]
    },
    {
     "name": "stdout",
     "output_type": "stream",
     "text": [
      "Epoch - 1 Valid-Loss : 0.42669543098000917 Valid-Accuracy : 0.8574074074074074\n",
      "Epoch - 2 Train-Loss : 0.3395785889314378\n"
     ]
    },
    {
     "name": "stderr",
     "output_type": "stream",
     "text": [
      "\r",
      "  4%|▍         | 2/50 [00:31<12:23, 15.49s/it]"
     ]
    },
    {
     "name": "stdout",
     "output_type": "stream",
     "text": [
      "Epoch - 2 Valid-Loss : 0.49529486193376426 Valid-Accuracy : 0.8592592592592593\n",
      "Epoch - 3 Train-Loss : 0.3060755013378666\n"
     ]
    },
    {
     "name": "stderr",
     "output_type": "stream",
     "text": [
      "\r",
      "  6%|▌         | 3/50 [00:46<11:51, 15.14s/it]"
     ]
    },
    {
     "name": "stdout",
     "output_type": "stream",
     "text": [
      "Epoch - 3 Valid-Loss : 0.3888111565919483 Valid-Accuracy : 0.8722222222222222\n",
      "Epoch - 4 Train-Loss : 0.23537477913915233\n"
     ]
    },
    {
     "name": "stderr",
     "output_type": "stream",
     "text": [
      "\r",
      "  8%|▊         | 4/50 [01:00<11:29, 14.99s/it]"
     ]
    },
    {
     "name": "stdout",
     "output_type": "stream",
     "text": [
      "Epoch - 4 Valid-Loss : 0.4821094616371043 Valid-Accuracy : 0.8592592592592593\n",
      "Epoch - 5 Train-Loss : 0.17751194680493107\n"
     ]
    },
    {
     "name": "stderr",
     "output_type": "stream",
     "text": [
      "\r",
      " 10%|█         | 5/50 [01:15<11:10, 14.91s/it]"
     ]
    },
    {
     "name": "stdout",
     "output_type": "stream",
     "text": [
      "Epoch - 5 Valid-Loss : 0.482206538100453 Valid-Accuracy : 0.8611111111111112\n",
      "Epoch - 6 Train-Loss : 0.13867663157254675\n"
     ]
    },
    {
     "name": "stderr",
     "output_type": "stream",
     "text": [
      "\r",
      " 12%|█▏        | 6/50 [01:30<10:53, 14.86s/it]"
     ]
    },
    {
     "name": "stdout",
     "output_type": "stream",
     "text": [
      "Epoch - 6 Valid-Loss : 0.5625384220963016 Valid-Accuracy : 0.8111111111111111\n",
      "Epoch - 7 Train-Loss : 0.09592759917723015\n"
     ]
    },
    {
     "name": "stderr",
     "output_type": "stream",
     "text": [
      "\r",
      " 14%|█▍        | 7/50 [01:45<10:37, 14.84s/it]"
     ]
    },
    {
     "name": "stdout",
     "output_type": "stream",
     "text": [
      "Epoch - 7 Valid-Loss : 0.5195366755566176 Valid-Accuracy : 0.837037037037037\n",
      "Epoch - 8 Train-Loss : 0.08338934034177595\n"
     ]
    },
    {
     "name": "stderr",
     "output_type": "stream",
     "text": [
      "\r",
      " 16%|█▌        | 8/50 [01:59<10:22, 14.83s/it]"
     ]
    },
    {
     "name": "stdout",
     "output_type": "stream",
     "text": [
      "Epoch - 8 Valid-Loss : 0.508568648906315 Valid-Accuracy : 0.8740740740740741\n",
      "Epoch - 9 Train-Loss : 0.056603758497872414\n"
     ]
    },
    {
     "name": "stderr",
     "output_type": "stream",
     "text": [
      "\r",
      " 18%|█▊        | 9/50 [02:14<10:07, 14.82s/it]"
     ]
    },
    {
     "name": "stdout",
     "output_type": "stream",
     "text": [
      "Epoch - 9 Valid-Loss : 0.6016164696569938 Valid-Accuracy : 0.8888888888888888\n",
      "Epoch - 10 Train-Loss : 0.03785504568847554\n"
     ]
    },
    {
     "name": "stderr",
     "output_type": "stream",
     "text": [
      "\r",
      " 20%|██        | 10/50 [02:29<09:52, 14.82s/it]"
     ]
    },
    {
     "name": "stdout",
     "output_type": "stream",
     "text": [
      "Epoch - 10 Valid-Loss : 0.7773230023243848 Valid-Accuracy : 0.7796296296296297\n",
      "Epoch - 11 Train-Loss : 0.058230503221292404\n"
     ]
    },
    {
     "name": "stderr",
     "output_type": "stream",
     "text": [
      "\r",
      " 22%|██▏       | 11/50 [02:44<09:38, 14.82s/it]"
     ]
    },
    {
     "name": "stdout",
     "output_type": "stream",
     "text": [
      "Epoch - 11 Valid-Loss : 0.7198915481567383 Valid-Accuracy : 0.8203703703703704\n",
      "Epoch - 12 Train-Loss : 0.02716882381531939\n"
     ]
    },
    {
     "name": "stderr",
     "output_type": "stream",
     "text": [
      "\r",
      " 24%|██▍       | 12/50 [02:59<09:23, 14.82s/it]"
     ]
    },
    {
     "name": "stdout",
     "output_type": "stream",
     "text": [
      "Epoch - 12 Valid-Loss : 0.7840698301134741 Valid-Accuracy : 0.8888888888888888\n",
      "Epoch - 13 Train-Loss : 0.0312063138787701\n"
     ]
    },
    {
     "name": "stderr",
     "output_type": "stream",
     "text": [
      "\r",
      " 26%|██▌       | 13/50 [03:14<09:08, 14.82s/it]"
     ]
    },
    {
     "name": "stdout",
     "output_type": "stream",
     "text": [
      "Epoch - 13 Valid-Loss : 0.8593824242844301 Valid-Accuracy : 0.6925925925925925\n",
      "Epoch - 14 Train-Loss : 0.04740850900484742\n"
     ]
    },
    {
     "name": "stderr",
     "output_type": "stream",
     "text": [
      "\r",
      " 28%|██▊       | 14/50 [03:28<08:53, 14.82s/it]"
     ]
    },
    {
     "name": "stdout",
     "output_type": "stream",
     "text": [
      "Epoch - 14 Valid-Loss : 0.7553450546282179 Valid-Accuracy : 0.8555555555555555\n",
      "Epoch - 15 Train-Loss : 0.05716959986089291\n"
     ]
    },
    {
     "name": "stderr",
     "output_type": "stream",
     "text": [
      "\r",
      " 30%|███       | 15/50 [03:43<08:38, 14.82s/it]"
     ]
    },
    {
     "name": "stdout",
     "output_type": "stream",
     "text": [
      "Epoch - 15 Valid-Loss : 0.7267890555017135 Valid-Accuracy : 0.774074074074074\n",
      "Epoch - 16 Train-Loss : 0.021799626277296577\n"
     ]
    },
    {
     "name": "stderr",
     "output_type": "stream",
     "text": [
      "\r",
      " 32%|███▏      | 16/50 [03:58<08:23, 14.81s/it]"
     ]
    },
    {
     "name": "stdout",
     "output_type": "stream",
     "text": [
      "Epoch - 16 Valid-Loss : 0.8753856533309291 Valid-Accuracy : 0.8759259259259259\n",
      "Epoch - 17 Train-Loss : 0.036575753197773925\n"
     ]
    },
    {
     "name": "stderr",
     "output_type": "stream",
     "text": [
      "\r",
      " 34%|███▍      | 17/50 [04:13<08:08, 14.81s/it]"
     ]
    },
    {
     "name": "stdout",
     "output_type": "stream",
     "text": [
      "Epoch - 17 Valid-Loss : 0.5970731401706443 Valid-Accuracy : 0.8314814814814815\n",
      "Epoch - 18 Train-Loss : 0.024972134863674\n"
     ]
    },
    {
     "name": "stderr",
     "output_type": "stream",
     "text": [
      "\r",
      " 36%|███▌      | 18/50 [04:28<07:53, 14.80s/it]"
     ]
    },
    {
     "name": "stdout",
     "output_type": "stream",
     "text": [
      "Epoch - 18 Valid-Loss : 0.6789032937410999 Valid-Accuracy : 0.8685185185185185\n",
      "Epoch - 19 Train-Loss : 0.01845486161758291\n"
     ]
    },
    {
     "name": "stderr",
     "output_type": "stream",
     "text": [
      "\r",
      " 38%|███▊      | 19/50 [04:42<07:38, 14.80s/it]"
     ]
    },
    {
     "name": "stdout",
     "output_type": "stream",
     "text": [
      "Epoch - 19 Valid-Loss : 0.724188990000745 Valid-Accuracy : 0.8351851851851851\n",
      "Epoch - 20 Train-Loss : 0.009893004931521265\n"
     ]
    },
    {
     "name": "stderr",
     "output_type": "stream",
     "text": [
      "\r",
      " 40%|████      | 20/50 [04:57<07:24, 14.82s/it]"
     ]
    },
    {
     "name": "stdout",
     "output_type": "stream",
     "text": [
      "Epoch - 20 Valid-Loss : 0.8690048426882747 Valid-Accuracy : 0.8722222222222222\n",
      "Epoch - 21 Train-Loss : 0.014299405502403233\n"
     ]
    },
    {
     "name": "stderr",
     "output_type": "stream",
     "text": [
      "\r",
      " 42%|████▏     | 21/50 [05:12<07:09, 14.82s/it]"
     ]
    },
    {
     "name": "stdout",
     "output_type": "stream",
     "text": [
      "Epoch - 21 Valid-Loss : 0.7586498310077278 Valid-Accuracy : 0.8648148148148148\n",
      "Epoch - 22 Train-Loss : 0.044077945372544704\n"
     ]
    },
    {
     "name": "stderr",
     "output_type": "stream",
     "text": [
      "\r",
      " 44%|████▍     | 22/50 [05:27<06:55, 14.82s/it]"
     ]
    },
    {
     "name": "stdout",
     "output_type": "stream",
     "text": [
      "Epoch - 22 Valid-Loss : 0.832843006355688 Valid-Accuracy : 0.8666666666666667\n",
      "Epoch - 23 Train-Loss : 0.04477060567467775\n"
     ]
    },
    {
     "name": "stderr",
     "output_type": "stream",
     "text": [
      "\r",
      " 46%|████▌     | 23/50 [05:42<06:40, 14.82s/it]"
     ]
    },
    {
     "name": "stdout",
     "output_type": "stream",
     "text": [
      "Epoch - 23 Valid-Loss : 0.7418651855824625 Valid-Accuracy : 0.837037037037037\n",
      "Epoch - 24 Train-Loss : 0.029747896744190844\n"
     ]
    },
    {
     "name": "stderr",
     "output_type": "stream",
     "text": [
      "\r",
      " 48%|████▊     | 24/50 [05:56<06:25, 14.82s/it]"
     ]
    },
    {
     "name": "stdout",
     "output_type": "stream",
     "text": [
      "Epoch - 24 Valid-Loss : 0.6186957083478132 Valid-Accuracy : 0.8518518518518519\n",
      "Epoch - 25 Train-Loss : 0.02679084834370074\n"
     ]
    },
    {
     "name": "stderr",
     "output_type": "stream",
     "text": [
      "\r",
      " 50%|█████     | 25/50 [06:11<06:10, 14.82s/it]"
     ]
    },
    {
     "name": "stdout",
     "output_type": "stream",
     "text": [
      "Epoch - 25 Valid-Loss : 0.7694969140814946 Valid-Accuracy : 0.8518518518518519\n",
      "Epoch - 26 Train-Loss : 0.03020867755474362\n"
     ]
    },
    {
     "name": "stderr",
     "output_type": "stream",
     "text": [
      "\r",
      " 52%|█████▏    | 26/50 [06:26<05:55, 14.81s/it]"
     ]
    },
    {
     "name": "stdout",
     "output_type": "stream",
     "text": [
      "Epoch - 26 Valid-Loss : 0.7691564697991399 Valid-Accuracy : 0.8277777777777777\n",
      "Epoch - 27 Train-Loss : 0.02823933516190343\n"
     ]
    },
    {
     "name": "stderr",
     "output_type": "stream",
     "text": [
      "\r",
      " 54%|█████▍    | 27/50 [06:41<05:40, 14.81s/it]"
     ]
    },
    {
     "name": "stdout",
     "output_type": "stream",
     "text": [
      "Epoch - 27 Valid-Loss : 0.6455651613034528 Valid-Accuracy : 0.8592592592592593\n",
      "Epoch - 28 Train-Loss : 0.00726156140319076\n"
     ]
    },
    {
     "name": "stderr",
     "output_type": "stream",
     "text": [
      "\r",
      " 56%|█████▌    | 28/50 [06:56<05:25, 14.80s/it]"
     ]
    },
    {
     "name": "stdout",
     "output_type": "stream",
     "text": [
      "Epoch - 28 Valid-Loss : 0.8416367292263791 Valid-Accuracy : 0.8833333333333333\n",
      "Epoch - 29 Train-Loss : 0.006439566876528769\n"
     ]
    },
    {
     "name": "stderr",
     "output_type": "stream",
     "text": [
      "\r",
      " 58%|█████▊    | 29/50 [07:10<05:10, 14.80s/it]"
     ]
    },
    {
     "name": "stdout",
     "output_type": "stream",
     "text": [
      "Epoch - 29 Valid-Loss : 0.83590692422363 Valid-Accuracy : 0.8870370370370371\n",
      "Epoch - 30 Train-Loss : 0.006072801261071244\n"
     ]
    },
    {
     "name": "stderr",
     "output_type": "stream",
     "text": [
      "\r",
      " 60%|██████    | 30/50 [07:25<04:56, 14.80s/it]"
     ]
    },
    {
     "name": "stdout",
     "output_type": "stream",
     "text": [
      "Epoch - 30 Valid-Loss : 0.9512606076827711 Valid-Accuracy : 0.8851851851851852\n",
      "Epoch - 31 Train-Loss : 0.004439944417309588\n"
     ]
    },
    {
     "name": "stderr",
     "output_type": "stream",
     "text": [
      "\r",
      " 62%|██████▏   | 31/50 [07:40<04:41, 14.81s/it]"
     ]
    },
    {
     "name": "stdout",
     "output_type": "stream",
     "text": [
      "Epoch - 31 Valid-Loss : 0.8917113397301297 Valid-Accuracy : 0.8870370370370371\n",
      "Epoch - 32 Train-Loss : 0.005303393067559709\n"
     ]
    },
    {
     "name": "stderr",
     "output_type": "stream",
     "text": [
      "\r",
      " 64%|██████▍   | 32/50 [07:55<04:26, 14.81s/it]"
     ]
    },
    {
     "name": "stdout",
     "output_type": "stream",
     "text": [
      "Epoch - 32 Valid-Loss : 0.9981402460834943 Valid-Accuracy : 0.8870370370370371\n",
      "Epoch - 33 Train-Loss : 0.0037751236802170537\n"
     ]
    },
    {
     "name": "stderr",
     "output_type": "stream",
     "text": [
      "\r",
      " 66%|██████▌   | 33/50 [08:10<04:11, 14.81s/it]"
     ]
    },
    {
     "name": "stdout",
     "output_type": "stream",
     "text": [
      "Epoch - 33 Valid-Loss : 0.888037968471789 Valid-Accuracy : 0.8814814814814815\n",
      "Epoch - 34 Train-Loss : 0.004478013477349872\n"
     ]
    },
    {
     "name": "stderr",
     "output_type": "stream",
     "text": [
      "\r",
      " 68%|██████▊   | 34/50 [08:25<03:57, 14.81s/it]"
     ]
    },
    {
     "name": "stdout",
     "output_type": "stream",
     "text": [
      "Epoch - 34 Valid-Loss : 0.8933173872997834 Valid-Accuracy : 0.8814814814814815\n",
      "Epoch - 35 Train-Loss : 0.0035967182895199263\n"
     ]
    },
    {
     "name": "stderr",
     "output_type": "stream",
     "text": [
      "\r",
      " 70%|███████   | 35/50 [08:39<03:42, 14.82s/it]"
     ]
    },
    {
     "name": "stdout",
     "output_type": "stream",
     "text": [
      "Epoch - 35 Valid-Loss : 0.8908704452606959 Valid-Accuracy : 0.8722222222222222\n",
      "Epoch - 36 Train-Loss : 0.004925225777265709\n"
     ]
    },
    {
     "name": "stderr",
     "output_type": "stream",
     "text": [
      "\r",
      " 72%|███████▏  | 36/50 [08:54<03:27, 14.81s/it]"
     ]
    },
    {
     "name": "stdout",
     "output_type": "stream",
     "text": [
      "Epoch - 36 Valid-Loss : 0.8093686367423395 Valid-Accuracy : 0.8777777777777778\n",
      "Epoch - 37 Train-Loss : 0.005571564717105476\n"
     ]
    },
    {
     "name": "stderr",
     "output_type": "stream",
     "text": [
      "\r",
      " 74%|███████▍  | 37/50 [09:09<03:14, 14.94s/it]"
     ]
    },
    {
     "name": "stdout",
     "output_type": "stream",
     "text": [
      "Epoch - 37 Valid-Loss : 0.9069677369449946 Valid-Accuracy : 0.8814814814814815\n",
      "Epoch - 38 Train-Loss : 0.004458253724475098\n"
     ]
    },
    {
     "name": "stderr",
     "output_type": "stream",
     "text": [
      "\r",
      " 76%|███████▌  | 38/50 [09:24<02:58, 14.91s/it]"
     ]
    },
    {
     "name": "stdout",
     "output_type": "stream",
     "text": [
      "Epoch - 38 Valid-Loss : 0.8875287754036596 Valid-Accuracy : 0.8870370370370371\n",
      "Epoch - 39 Train-Loss : 0.004219887841628633\n"
     ]
    },
    {
     "name": "stderr",
     "output_type": "stream",
     "text": [
      "\r",
      " 78%|███████▊  | 39/50 [09:39<02:43, 14.89s/it]"
     ]
    },
    {
     "name": "stdout",
     "output_type": "stream",
     "text": [
      "Epoch - 39 Valid-Loss : 0.8716472722042132 Valid-Accuracy : 0.8814814814814815\n",
      "Epoch - 40 Train-Loss : 0.004794711923787364\n"
     ]
    },
    {
     "name": "stderr",
     "output_type": "stream",
     "text": [
      "\r",
      " 80%|████████  | 40/50 [09:54<02:28, 14.87s/it]"
     ]
    },
    {
     "name": "stdout",
     "output_type": "stream",
     "text": [
      "Epoch - 40 Valid-Loss : 0.8226677807979286 Valid-Accuracy : 0.8833333333333333\n",
      "Epoch - 41 Train-Loss : 0.005187120866126219\n"
     ]
    },
    {
     "name": "stderr",
     "output_type": "stream",
     "text": [
      "\r",
      " 82%|████████▏ | 41/50 [10:09<02:13, 14.88s/it]"
     ]
    },
    {
     "name": "stdout",
     "output_type": "stream",
     "text": [
      "Epoch - 41 Valid-Loss : 0.8706320211636279 Valid-Accuracy : 0.8833333333333333\n",
      "Epoch - 42 Train-Loss : 0.0035437795514605555\n"
     ]
    },
    {
     "name": "stderr",
     "output_type": "stream",
     "text": [
      "\r",
      " 84%|████████▍ | 42/50 [10:24<01:59, 14.88s/it]"
     ]
    },
    {
     "name": "stdout",
     "output_type": "stream",
     "text": [
      "Epoch - 42 Valid-Loss : 0.829304017337563 Valid-Accuracy : 0.8759259259259259\n",
      "Epoch - 43 Train-Loss : 0.004522586666299129\n"
     ]
    },
    {
     "name": "stderr",
     "output_type": "stream",
     "text": [
      "\r",
      " 86%|████████▌ | 43/50 [10:39<01:44, 14.88s/it]"
     ]
    },
    {
     "name": "stdout",
     "output_type": "stream",
     "text": [
      "Epoch - 43 Valid-Loss : 0.9130194945678608 Valid-Accuracy : 0.8851851851851852\n",
      "Epoch - 44 Train-Loss : 0.004532387549983576\n"
     ]
    },
    {
     "name": "stderr",
     "output_type": "stream",
     "text": [
      "\r",
      " 88%|████████▊ | 44/50 [10:54<01:29, 14.90s/it]"
     ]
    },
    {
     "name": "stdout",
     "output_type": "stream",
     "text": [
      "Epoch - 44 Valid-Loss : 0.8955779656329576 Valid-Accuracy : 0.8740740740740741\n",
      "Epoch - 45 Train-Loss : 0.0049132443059082724\n"
     ]
    },
    {
     "name": "stderr",
     "output_type": "stream",
     "text": [
      "\r",
      " 90%|█████████ | 45/50 [11:09<01:14, 14.94s/it]"
     ]
    },
    {
     "name": "stdout",
     "output_type": "stream",
     "text": [
      "Epoch - 45 Valid-Loss : 0.8688173636602348 Valid-Accuracy : 0.8851851851851852\n",
      "Epoch - 46 Train-Loss : 0.003768095893422817\n"
     ]
    },
    {
     "name": "stderr",
     "output_type": "stream",
     "text": [
      "\r",
      " 92%|█████████▏| 46/50 [11:24<00:59, 14.98s/it]"
     ]
    },
    {
     "name": "stdout",
     "output_type": "stream",
     "text": [
      "Epoch - 46 Valid-Loss : 0.8544619449085611 Valid-Accuracy : 0.8851851851851852\n",
      "Epoch - 47 Train-Loss : 0.00451184069517474\n"
     ]
    },
    {
     "name": "stderr",
     "output_type": "stream",
     "text": [
      "\r",
      " 94%|█████████▍| 47/50 [11:39<00:44, 14.96s/it]"
     ]
    },
    {
     "name": "stdout",
     "output_type": "stream",
     "text": [
      "Epoch - 47 Valid-Loss : 0.9107512110443649 Valid-Accuracy : 0.8925925925925926\n",
      "Epoch - 48 Train-Loss : 0.004461522872744313\n"
     ]
    },
    {
     "name": "stderr",
     "output_type": "stream",
     "text": [
      "\r",
      " 96%|█████████▌| 48/50 [11:52<00:29, 14.51s/it]"
     ]
    },
    {
     "name": "stdout",
     "output_type": "stream",
     "text": [
      "Epoch - 48 Valid-Loss : 0.884285796300794 Valid-Accuracy : 0.8833333333333333\n",
      "Epoch - 49 Train-Loss : 0.005443733414280165\n"
     ]
    },
    {
     "name": "stderr",
     "output_type": "stream",
     "text": [
      "\r",
      " 98%|█████████▊| 49/50 [12:05<00:14, 14.13s/it]"
     ]
    },
    {
     "name": "stdout",
     "output_type": "stream",
     "text": [
      "Epoch - 49 Valid-Loss : 0.9658024277847718 Valid-Accuracy : 0.8888888888888888\n",
      "Epoch - 50 Train-Loss : 0.00404776129296552\n"
     ]
    },
    {
     "name": "stderr",
     "output_type": "stream",
     "text": [
      "100%|██████████| 50/50 [12:18<00:00, 14.78s/it]"
     ]
    },
    {
     "name": "stdout",
     "output_type": "stream",
     "text": [
      "Epoch - 50 Valid-Loss : 0.9962773884437732 Valid-Accuracy : 0.8796296296296297\n"
     ]
    },
    {
     "name": "stderr",
     "output_type": "stream",
     "text": [
      "\n"
     ]
    }
   ],
   "source": [
    "learning_rate = 1e-4\n",
    "optimizer = optim.Adam(resnet_model.parameters(), lr=learning_rate)\n",
    "epochs = 50\n",
    "\n",
    "train_losses = []\n",
    "valid_losses = []\n",
    "loss = nn.CrossEntropyLoss()\n",
    "\n",
    "train_classification(resnet_model, train_loader, valid_loader, epochs, optimizer, train_losses, valid_losses, device, lr_decay, loss)"
   ]
  },
  {
   "cell_type": "markdown",
   "id": "ff51ff41",
   "metadata": {},
   "source": [
    "## Plot training loss"
   ]
  },
  {
   "cell_type": "code",
   "execution_count": 6,
   "id": "c8ef8836",
   "metadata": {},
   "outputs": [
    {
     "data": {
      "image/png": "[encoded data removed]",
      "text/plain": [
       "<Figure size 1200x600 with 2 Axes>"
      ]
     },
     "metadata": {},
     "output_type": "display_data"
    }
   ],
   "source": [
    "tl = np.asarray(train_losses).ravel()\n",
    "vl = np.asarray(valid_losses).ravel()\n",
    "plt.figure(figsize=(12,6))\n",
    "plt.subplot(1,2,1)\n",
    "plt.plot(tl)\n",
    "plt.legend(['Train Loss'])\n",
    "plt.subplot(1,2,2)\n",
    "plt.plot(vl,'orange')\n",
    "plt.legend(['Valid Loss'])\n",
    "plt.show()"
   ]
  }
 ],
 "metadata": {
  "kernelspec": {
   "display_name": "Python 3 (ipykernel)",
   "language": "python",
   "name": "python3"
  },
  "language_info": {
   "codemirror_mode": {
    "name": "ipython",
    "version": 3
   },
   "file_extension": ".py",
   "mimetype": "text/x-python",
   "name": "python",
   "nbconvert_exporter": "python",
   "pygments_lexer": "ipython3",
   "version": "3.10.6"
  }
 },
 "nbformat": 4,
 "nbformat_minor": 5
}
