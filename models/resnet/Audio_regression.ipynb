{
 "cells": [
  {
   "cell_type": "markdown",
   "id": "1bd37c4b",
   "metadata": {},
   "source": [
    "# Audio regression using resnet"
   ]
  },
  {
   "cell_type": "code",
   "execution_count": 1,
   "id": "50f370f4",
   "metadata": {},
   "outputs": [],
   "source": [
    "from src.audio_dataset import AudioRegressionDataset\n",
    "from src.train import train_regression, lr_decay\n",
    "from torch.utils.data import DataLoader\n",
    "from pathlib import Path\n",
    "import pandas as pd\n",
    "import torch\n",
    "from torchvision.models import resnet34, resnet50, resnet101\n",
    "import torch.nn as nn\n",
    "import torch.optim as optim\n",
    "import matplotlib.pyplot as plt\n",
    "import numpy as np"
   ]
  },
  {
   "cell_type": "markdown",
   "id": "3d49990d",
   "metadata": {},
   "source": [
    "## Load dataset"
   ]
  },
  {
   "cell_type": "code",
   "execution_count": 2,
   "id": "33fc9465",
   "metadata": {},
   "outputs": [],
   "source": [
    "dim = \"width\" #width / height / duration ..."
   ]
  },
  {
   "cell_type": "code",
   "execution_count": 3,
   "id": "0e4a6864",
   "metadata": {},
   "outputs": [
    {
     "name": "stderr",
     "output_type": "stream",
     "text": [
      "100%|██████████| 2173/2173 [00:52<00:00, 41.47it/s]\n",
      "100%|██████████| 540/540 [00:11<00:00, 45.77it/s]\n"
     ]
    }
   ],
   "source": [
    "path = str(Path.cwd())\n",
    "train_path = path + \"/data/train/\"\n",
    "valid_path = path + \"/data/valid/\"\n",
    "\n",
    "train_data = pd.read_csv(train_path + \"train.csv\")#[:200]\n",
    "valid_data = pd.read_csv(valid_path + \"valid.csv\")#[:40]\n",
    "\n",
    "train_data[\"class\"] = train_data[dim]\n",
    "valid_data[\"class\"] = valid_data[dim]\n",
    "\n",
    "train_data_set = AudioRegressionDataset(train_path, train_data, in_featr='filename', out_featr='class')\n",
    "valid_data_set = AudioRegressionDataset(valid_path, valid_data, in_featr='filename', out_featr='class')\n",
    "\n",
    "train_loader = DataLoader(train_data_set, batch_size=16, shuffle=True)\n",
    "valid_loader = DataLoader(valid_data_set, batch_size=16, shuffle=True)"
   ]
  },
  {
   "cell_type": "markdown",
   "id": "eec9aea7",
   "metadata": {},
   "source": [
    "## Set up ResNet model"
   ]
  },
  {
   "cell_type": "code",
   "execution_count": 4,
   "id": "1cab0751",
   "metadata": {},
   "outputs": [],
   "source": [
    "device = torch.device('cuda:0') if torch.cuda.is_available() else torch.device('cpu')     \n",
    "resnet_model = resnet34(weights=\"DEFAULT\")\n",
    "resnet_model.fc = nn.Sequential(nn.Linear(512,2048),\n",
    "                                nn.Linear(2048,2048),\n",
    "                                nn.Linear(2048, 1024),\n",
    "                                nn.Linear(1024, 1024),\n",
    "                                nn.Linear(1024,1))  # (512, 50)\n",
    "resnet_model.conv1 = nn.Conv2d(1, 64, kernel_size=(7, 7), stride=(4, 4), padding=(3, 3), bias=False)\n",
    "resnet_model = resnet_model.to(device)"
   ]
  },
  {
   "cell_type": "markdown",
   "id": "23df5662",
   "metadata": {},
   "source": [
    "## Train Model"
   ]
  },
  {
   "cell_type": "code",
   "execution_count": 6,
   "id": "d25c5ac0",
   "metadata": {
    "scrolled": false
   },
   "outputs": [
    {
     "name": "stderr",
     "output_type": "stream",
     "text": [
      "\r",
      "  0%|          | 0/50 [00:00<?, ?it/s]"
     ]
    },
    {
     "name": "stdout",
     "output_type": "stream",
     "text": [
      "Epoch - 1 Train-Loss : 35.09754328166737\n"
     ]
    },
    {
     "name": "stderr",
     "output_type": "stream",
     "text": [
      "\r",
      "  2%|▏         | 1/50 [00:17<14:41, 18.00s/it]"
     ]
    },
    {
     "name": "stdout",
     "output_type": "stream",
     "text": [
      "Epoch - 1 Valid-Loss : 21.69977039449355 Valid-MAE : 22.151845932006836\n",
      "Epoch - 2 Train-Loss : 20.32845376519596\n"
     ]
    },
    {
     "name": "stderr",
     "output_type": "stream",
     "text": [
      "\r",
      "  4%|▍         | 2/50 [00:34<13:32, 16.92s/it]"
     ]
    },
    {
     "name": "stdout",
     "output_type": "stream",
     "text": [
      "Epoch - 2 Valid-Loss : 19.16811710245469 Valid-MAE : 19.611186981201172\n",
      "Epoch - 3 Train-Loss : 19.67969292752883\n"
     ]
    },
    {
     "name": "stderr",
     "output_type": "stream",
     "text": [
      "\r",
      "  6%|▌         | 3/50 [00:50<12:56, 16.51s/it]"
     ]
    },
    {
     "name": "stdout",
     "output_type": "stream",
     "text": [
      "Epoch - 3 Valid-Loss : 23.414588984321146 Valid-MAE : 23.906227111816406\n",
      "Epoch - 4 Train-Loss : 17.463505860637216\n"
     ]
    },
    {
     "name": "stderr",
     "output_type": "stream",
     "text": [
      "\r",
      "  8%|▊         | 4/50 [01:06<12:30, 16.32s/it]"
     ]
    },
    {
     "name": "stdout",
     "output_type": "stream",
     "text": [
      "Epoch - 4 Valid-Loss : 18.432459312326767 Valid-MAE : 18.904930114746094\n",
      "Epoch - 5 Train-Loss : 17.40673311317668\n"
     ]
    },
    {
     "name": "stderr",
     "output_type": "stream",
     "text": [
      "\r",
      " 10%|█         | 5/50 [01:22<12:10, 16.23s/it]"
     ]
    },
    {
     "name": "stdout",
     "output_type": "stream",
     "text": [
      "Epoch - 5 Valid-Loss : 16.814158159143783 Valid-MAE : 17.31412124633789\n",
      "Epoch - 6 Train-Loss : 18.14313875577029\n"
     ]
    },
    {
     "name": "stderr",
     "output_type": "stream",
     "text": [
      "\r",
      " 12%|█▏        | 6/50 [01:38<11:50, 16.15s/it]"
     ]
    },
    {
     "name": "stdout",
     "output_type": "stream",
     "text": [
      "Epoch - 6 Valid-Loss : 24.67312723047593 Valid-MAE : 25.0793399810791\n",
      "Epoch - 7 Train-Loss : 14.25904443860054\n"
     ]
    },
    {
     "name": "stderr",
     "output_type": "stream",
     "text": [
      "\r",
      " 14%|█▍        | 7/50 [01:54<11:32, 16.11s/it]"
     ]
    },
    {
     "name": "stdout",
     "output_type": "stream",
     "text": [
      "Epoch - 7 Valid-Loss : 18.69484500324025 Valid-MAE : 19.15993881225586\n",
      "Epoch - 8 Train-Loss : 13.69019591107088\n"
     ]
    },
    {
     "name": "stderr",
     "output_type": "stream",
     "text": [
      "\r",
      " 16%|█▌        | 8/50 [02:10<11:15, 16.09s/it]"
     ]
    },
    {
     "name": "stdout",
     "output_type": "stream",
     "text": [
      "Epoch - 8 Valid-Loss : 16.999996269450467 Valid-MAE : 17.57510757446289\n",
      "Epoch - 9 Train-Loss : 13.543976201730615\n"
     ]
    },
    {
     "name": "stderr",
     "output_type": "stream",
     "text": [
      "\r",
      " 18%|█▊        | 9/50 [02:26<10:58, 16.07s/it]"
     ]
    },
    {
     "name": "stdout",
     "output_type": "stream",
     "text": [
      "Epoch - 9 Valid-Loss : 18.180804897757138 Valid-MAE : 18.754892349243164\n",
      "Epoch - 10 Train-Loss : 11.845075398683548\n"
     ]
    },
    {
     "name": "stderr",
     "output_type": "stream",
     "text": [
      "\r",
      " 20%|██        | 10/50 [02:42<10:42, 16.05s/it]"
     ]
    },
    {
     "name": "stdout",
     "output_type": "stream",
     "text": [
      "Epoch - 10 Valid-Loss : 19.207363970139447 Valid-MAE : 19.73265266418457\n",
      "Epoch - 11 Train-Loss : 11.134326871703653\n"
     ]
    },
    {
     "name": "stderr",
     "output_type": "stream",
     "text": [
      "\r",
      " 22%|██▏       | 11/50 [02:58<10:25, 16.04s/it]"
     ]
    },
    {
     "name": "stdout",
     "output_type": "stream",
     "text": [
      "Epoch - 11 Valid-Loss : 17.736887398888083 Valid-MAE : 18.1422119140625\n",
      "Epoch - 12 Train-Loss : 11.953778699916953\n"
     ]
    },
    {
     "name": "stderr",
     "output_type": "stream",
     "text": [
      "\r",
      " 24%|██▍       | 12/50 [03:14<10:09, 16.04s/it]"
     ]
    },
    {
     "name": "stdout",
     "output_type": "stream",
     "text": [
      "Epoch - 12 Valid-Loss : 18.929314473096063 Valid-MAE : 19.37282943725586\n",
      "Epoch - 13 Train-Loss : 10.972981254844104\n"
     ]
    },
    {
     "name": "stderr",
     "output_type": "stream",
     "text": [
      "\r",
      " 26%|██▌       | 13/50 [03:30<09:53, 16.03s/it]"
     ]
    },
    {
     "name": "stdout",
     "output_type": "stream",
     "text": [
      "Epoch - 13 Valid-Loss : 22.771650426528034 Valid-MAE : 23.228776931762695\n",
      "Epoch - 14 Train-Loss : 10.65867648580495\n"
     ]
    },
    {
     "name": "stderr",
     "output_type": "stream",
     "text": [
      "\r",
      " 28%|██▊       | 14/50 [03:46<09:36, 16.02s/it]"
     ]
    },
    {
     "name": "stdout",
     "output_type": "stream",
     "text": [
      "Epoch - 14 Valid-Loss : 21.822143105899585 Valid-MAE : 22.254127502441406\n",
      "Epoch - 15 Train-Loss : 10.035847826915628\n"
     ]
    },
    {
     "name": "stderr",
     "output_type": "stream",
     "text": [
      "\r",
      " 30%|███       | 15/50 [04:02<09:20, 16.01s/it]"
     ]
    },
    {
     "name": "stdout",
     "output_type": "stream",
     "text": [
      "Epoch - 15 Valid-Loss : 22.800844949834488 Valid-MAE : 23.30375099182129\n",
      "Epoch - 16 Train-Loss : 10.186349186827155\n"
     ]
    },
    {
     "name": "stderr",
     "output_type": "stream",
     "text": [
      "\r",
      " 32%|███▏      | 16/50 [04:18<09:04, 16.00s/it]"
     ]
    },
    {
     "name": "stdout",
     "output_type": "stream",
     "text": [
      "Epoch - 16 Valid-Loss : 22.36714469685274 Valid-MAE : 22.7911376953125\n",
      "Epoch - 17 Train-Loss : 9.271960370680866\n"
     ]
    },
    {
     "name": "stderr",
     "output_type": "stream",
     "text": [
      "\r",
      " 34%|███▍      | 17/50 [04:34<08:48, 16.00s/it]"
     ]
    },
    {
     "name": "stdout",
     "output_type": "stream",
     "text": [
      "Epoch - 17 Valid-Loss : 16.963799644919003 Valid-MAE : 17.49262809753418\n",
      "Epoch - 18 Train-Loss : 8.304494400234784\n"
     ]
    },
    {
     "name": "stderr",
     "output_type": "stream",
     "text": [
      "\r",
      " 36%|███▌      | 18/50 [04:50<08:32, 16.00s/it]"
     ]
    },
    {
     "name": "stdout",
     "output_type": "stream",
     "text": [
      "Epoch - 18 Valid-Loss : 18.148708511801328 Valid-MAE : 18.510793685913086\n",
      "Epoch - 19 Train-Loss : 7.887514973387999\n"
     ]
    },
    {
     "name": "stderr",
     "output_type": "stream",
     "text": [
      "\r",
      " 38%|███▊      | 19/50 [05:06<08:16, 16.01s/it]"
     ]
    },
    {
     "name": "stdout",
     "output_type": "stream",
     "text": [
      "Epoch - 19 Valid-Loss : 17.661331260905545 Valid-MAE : 18.117483139038086\n",
      "Epoch - 20 Train-Loss : 7.163224590175292\n"
     ]
    },
    {
     "name": "stderr",
     "output_type": "stream",
     "text": [
      "\r",
      " 40%|████      | 20/50 [05:22<08:00, 16.01s/it]"
     ]
    },
    {
     "name": "stdout",
     "output_type": "stream",
     "text": [
      "Epoch - 20 Valid-Loss : 18.105536741368912 Valid-MAE : 18.6524600982666\n",
      "Epoch - 21 Train-Loss : 7.38067785431357\n"
     ]
    },
    {
     "name": "stderr",
     "output_type": "stream",
     "text": [
      "\r",
      " 42%|████▏     | 21/50 [05:38<07:44, 16.01s/it]"
     ]
    },
    {
     "name": "stdout",
     "output_type": "stream",
     "text": [
      "Epoch - 21 Valid-Loss : 23.995352380415973 Valid-MAE : 24.49860382080078\n",
      "Epoch - 22 Train-Loss : 7.564658624284408\n"
     ]
    },
    {
     "name": "stderr",
     "output_type": "stream",
     "text": [
      "\r",
      " 44%|████▍     | 22/50 [05:54<07:29, 16.06s/it]"
     ]
    },
    {
     "name": "stdout",
     "output_type": "stream",
     "text": [
      "Epoch - 22 Valid-Loss : 17.472060371847714 Valid-MAE : 18.0550537109375\n",
      "Epoch - 23 Train-Loss : 8.145135517506038\n"
     ]
    },
    {
     "name": "stderr",
     "output_type": "stream",
     "text": [
      "\r",
      " 46%|████▌     | 23/50 [06:10<07:14, 16.07s/it]"
     ]
    },
    {
     "name": "stdout",
     "output_type": "stream",
     "text": [
      "Epoch - 23 Valid-Loss : 19.519736528396606 Valid-MAE : 20.016929626464844\n",
      "Epoch - 24 Train-Loss : 7.4683128262267395\n"
     ]
    },
    {
     "name": "stderr",
     "output_type": "stream",
     "text": [
      "\r",
      " 48%|████▊     | 24/50 [06:26<06:57, 16.07s/it]"
     ]
    },
    {
     "name": "stdout",
     "output_type": "stream",
     "text": [
      "Epoch - 24 Valid-Loss : 18.229002461713904 Valid-MAE : 18.71103858947754\n",
      "Epoch - 25 Train-Loss : 7.296570574536043\n"
     ]
    },
    {
     "name": "stderr",
     "output_type": "stream",
     "text": [
      "\r",
      " 50%|█████     | 25/50 [06:43<06:42, 16.11s/it]"
     ]
    },
    {
     "name": "stdout",
     "output_type": "stream",
     "text": [
      "Epoch - 25 Valid-Loss : 18.453897027408374 Valid-MAE : 18.9919490814209\n",
      "Epoch - 26 Train-Loss : 7.367322358138421\n"
     ]
    },
    {
     "name": "stderr",
     "output_type": "stream",
     "text": [
      "\r",
      " 52%|█████▏    | 26/50 [06:59<06:26, 16.09s/it]"
     ]
    },
    {
     "name": "stdout",
     "output_type": "stream",
     "text": [
      "Epoch - 26 Valid-Loss : 16.917460245244644 Valid-MAE : 17.44355010986328\n",
      "Epoch - 27 Train-Loss : 6.480227328398648\n"
     ]
    },
    {
     "name": "stderr",
     "output_type": "stream",
     "text": [
      "\r",
      " 54%|█████▍    | 27/50 [07:15<06:09, 16.09s/it]"
     ]
    },
    {
     "name": "stdout",
     "output_type": "stream",
     "text": [
      "Epoch - 27 Valid-Loss : 17.739089783500223 Valid-MAE : 18.25162124633789\n",
      "Epoch - 28 Train-Loss : 7.676457329707987\n"
     ]
    },
    {
     "name": "stderr",
     "output_type": "stream",
     "text": [
      "\r",
      " 56%|█████▌    | 28/50 [07:31<05:53, 16.07s/it]"
     ]
    },
    {
     "name": "stdout",
     "output_type": "stream",
     "text": [
      "Epoch - 28 Valid-Loss : 18.409038936390598 Valid-MAE : 18.913740158081055\n",
      "Epoch - 29 Train-Loss : 6.631849281928119\n"
     ]
    },
    {
     "name": "stderr",
     "output_type": "stream",
     "text": [
      "\r",
      " 58%|█████▊    | 29/50 [07:47<05:37, 16.06s/it]"
     ]
    },
    {
     "name": "stdout",
     "output_type": "stream",
     "text": [
      "Epoch - 29 Valid-Loss : 18.577040924745447 Valid-MAE : 18.999197006225586\n",
      "Epoch - 30 Train-Loss : 6.230104951297536\n"
     ]
    },
    {
     "name": "stderr",
     "output_type": "stream",
     "text": [
      "\r",
      " 60%|██████    | 30/50 [08:03<05:21, 16.07s/it]"
     ]
    },
    {
     "name": "stdout",
     "output_type": "stream",
     "text": [
      "Epoch - 30 Valid-Loss : 17.48588783600751 Valid-MAE : 17.892417907714844\n",
      "Epoch - 31 Train-Loss : 5.425909697132952\n"
     ]
    },
    {
     "name": "stderr",
     "output_type": "stream",
     "text": [
      "\r",
      " 62%|██████▏   | 31/50 [08:19<05:05, 16.06s/it]"
     ]
    },
    {
     "name": "stdout",
     "output_type": "stream",
     "text": [
      "Epoch - 31 Valid-Loss : 17.6711145288804 Valid-MAE : 18.015544891357422\n",
      "Epoch - 32 Train-Loss : 5.328752139911932\n"
     ]
    },
    {
     "name": "stderr",
     "output_type": "stream",
     "text": [
      "\r",
      " 64%|██████▍   | 32/50 [08:35<04:49, 16.06s/it]"
     ]
    },
    {
     "name": "stdout",
     "output_type": "stream",
     "text": [
      "Epoch - 32 Valid-Loss : 16.45083975791931 Valid-MAE : 16.94481086730957\n",
      "Epoch - 33 Train-Loss : 5.909302876276128\n"
     ]
    },
    {
     "name": "stderr",
     "output_type": "stream",
     "text": [
      "\r",
      " 66%|██████▌   | 33/50 [08:51<04:33, 16.08s/it]"
     ]
    },
    {
     "name": "stdout",
     "output_type": "stream",
     "text": [
      "Epoch - 33 Valid-Loss : 17.735620386460248 Valid-MAE : 18.179723739624023\n",
      "Epoch - 34 Train-Loss : 5.526860614909845\n"
     ]
    },
    {
     "name": "stderr",
     "output_type": "stream",
     "text": [
      "\r",
      " 68%|██████▊   | 34/50 [09:07<04:17, 16.11s/it]"
     ]
    },
    {
     "name": "stdout",
     "output_type": "stream",
     "text": [
      "Epoch - 34 Valid-Loss : 16.81207098680384 Valid-MAE : 17.279903411865234\n",
      "Epoch - 35 Train-Loss : 4.849859732038834\n"
     ]
    },
    {
     "name": "stderr",
     "output_type": "stream",
     "text": [
      "\r",
      " 70%|███████   | 35/50 [09:23<04:02, 16.13s/it]"
     ]
    },
    {
     "name": "stdout",
     "output_type": "stream",
     "text": [
      "Epoch - 35 Valid-Loss : 16.00723392823163 Valid-MAE : 16.5413818359375\n",
      "Epoch - 36 Train-Loss : 5.189764017567915\n"
     ]
    },
    {
     "name": "stderr",
     "output_type": "stream",
     "text": [
      "\r",
      " 72%|███████▏  | 36/50 [09:40<03:46, 16.15s/it]"
     ]
    },
    {
     "name": "stdout",
     "output_type": "stream",
     "text": [
      "Epoch - 36 Valid-Loss : 16.560471955467673 Valid-MAE : 17.00102424621582\n",
      "Epoch - 37 Train-Loss : 4.607148984775824\n"
     ]
    },
    {
     "name": "stderr",
     "output_type": "stream",
     "text": [
      "\r",
      " 74%|███████▍  | 37/50 [09:56<03:29, 16.13s/it]"
     ]
    },
    {
     "name": "stdout",
     "output_type": "stream",
     "text": [
      "Epoch - 37 Valid-Loss : 17.168850407880896 Valid-MAE : 17.64714241027832\n",
      "Epoch - 38 Train-Loss : 4.17885280882611\n"
     ]
    },
    {
     "name": "stderr",
     "output_type": "stream",
     "text": [
      "\r",
      " 76%|███████▌  | 38/50 [10:12<03:14, 16.17s/it]"
     ]
    },
    {
     "name": "stdout",
     "output_type": "stream",
     "text": [
      "Epoch - 38 Valid-Loss : 17.08331768652972 Valid-MAE : 17.576812744140625\n",
      "Epoch - 39 Train-Loss : 4.300735582323635\n"
     ]
    },
    {
     "name": "stderr",
     "output_type": "stream",
     "text": [
      "\r",
      " 78%|███████▊  | 39/50 [10:28<02:57, 16.13s/it]"
     ]
    },
    {
     "name": "stdout",
     "output_type": "stream",
     "text": [
      "Epoch - 39 Valid-Loss : 16.793147073072547 Valid-MAE : 17.305809020996094\n",
      "Epoch - 40 Train-Loss : 4.728966875111356\n"
     ]
    },
    {
     "name": "stderr",
     "output_type": "stream",
     "text": [
      "\r",
      " 80%|████████  | 40/50 [10:44<02:40, 16.10s/it]"
     ]
    },
    {
     "name": "stdout",
     "output_type": "stream",
     "text": [
      "Epoch - 40 Valid-Loss : 16.476284307592056 Valid-MAE : 17.047361373901367\n",
      "Epoch - 41 Train-Loss : 4.487467026009279\n"
     ]
    },
    {
     "name": "stderr",
     "output_type": "stream",
     "text": [
      "\r",
      " 82%|████████▏ | 41/50 [11:00<02:24, 16.07s/it]"
     ]
    },
    {
     "name": "stdout",
     "output_type": "stream",
     "text": [
      "Epoch - 41 Valid-Loss : 17.07276909491595 Valid-MAE : 17.621788024902344\n",
      "Epoch - 42 Train-Loss : 4.026038721203804\n"
     ]
    },
    {
     "name": "stderr",
     "output_type": "stream",
     "text": [
      "\r",
      " 84%|████████▍ | 42/50 [11:16<02:08, 16.06s/it]"
     ]
    },
    {
     "name": "stdout",
     "output_type": "stream",
     "text": [
      "Epoch - 42 Valid-Loss : 15.744154733770033 Valid-MAE : 16.303939819335938\n",
      "Epoch - 43 Train-Loss : 3.6268255140851524\n"
     ]
    },
    {
     "name": "stderr",
     "output_type": "stream",
     "text": [
      "\r",
      " 86%|████████▌ | 43/50 [11:32<01:52, 16.05s/it]"
     ]
    },
    {
     "name": "stdout",
     "output_type": "stream",
     "text": [
      "Epoch - 43 Valid-Loss : 16.565775380415076 Valid-MAE : 17.015512466430664\n",
      "Epoch - 44 Train-Loss : 4.294225237387068\n"
     ]
    },
    {
     "name": "stderr",
     "output_type": "stream",
     "text": [
      "\r",
      " 88%|████████▊ | 44/50 [11:48<01:36, 16.05s/it]"
     ]
    },
    {
     "name": "stdout",
     "output_type": "stream",
     "text": [
      "Epoch - 44 Valid-Loss : 15.376829568077536 Valid-MAE : 15.822497367858887\n",
      "Epoch - 45 Train-Loss : 4.794013576034238\n"
     ]
    },
    {
     "name": "stderr",
     "output_type": "stream",
     "text": [
      "\r",
      " 90%|█████████ | 45/50 [12:04<01:20, 16.04s/it]"
     ]
    },
    {
     "name": "stdout",
     "output_type": "stream",
     "text": [
      "Epoch - 45 Valid-Loss : 16.21801684884464 Valid-MAE : 16.641347885131836\n",
      "Epoch - 46 Train-Loss : 5.44157560783274\n"
     ]
    },
    {
     "name": "stderr",
     "output_type": "stream",
     "text": [
      "\r",
      " 92%|█████████▏| 46/50 [12:20<01:04, 16.04s/it]"
     ]
    },
    {
     "name": "stdout",
     "output_type": "stream",
     "text": [
      "Epoch - 46 Valid-Loss : 16.974001309450934 Valid-MAE : 17.43067169189453\n",
      "Epoch - 47 Train-Loss : 4.066859108560226\n"
     ]
    },
    {
     "name": "stderr",
     "output_type": "stream",
     "text": [
      "\r",
      " 94%|█████████▍| 47/50 [12:36<00:48, 16.06s/it]"
     ]
    },
    {
     "name": "stdout",
     "output_type": "stream",
     "text": [
      "Epoch - 47 Valid-Loss : 15.77486276626587 Valid-MAE : 16.251754760742188\n",
      "Epoch - 48 Train-Loss : 4.824002886519713\n"
     ]
    },
    {
     "name": "stderr",
     "output_type": "stream",
     "text": [
      "\r",
      " 96%|█████████▌| 48/50 [12:52<00:32, 16.05s/it]"
     ]
    },
    {
     "name": "stdout",
     "output_type": "stream",
     "text": [
      "Epoch - 48 Valid-Loss : 17.839493737501257 Valid-MAE : 18.283388137817383\n",
      "Epoch - 49 Train-Loss : 4.298565390355447\n"
     ]
    },
    {
     "name": "stderr",
     "output_type": "stream",
     "text": [
      "\r",
      " 98%|█████████▊| 49/50 [13:08<00:16, 16.04s/it]"
     ]
    },
    {
     "name": "stdout",
     "output_type": "stream",
     "text": [
      "Epoch - 49 Valid-Loss : 17.97257729137645 Valid-MAE : 18.45064926147461\n",
      "Epoch - 50 Train-Loss : 4.0551106281140274\n"
     ]
    },
    {
     "name": "stderr",
     "output_type": "stream",
     "text": [
      "100%|██████████| 50/50 [13:24<00:00, 16.10s/it]"
     ]
    },
    {
     "name": "stdout",
     "output_type": "stream",
     "text": [
      "Epoch - 50 Valid-Loss : 19.50810194015503 Valid-MAE : 19.94797134399414\n"
     ]
    },
    {
     "name": "stderr",
     "output_type": "stream",
     "text": [
      "\n"
     ]
    }
   ],
   "source": [
    "learning_rate = 1e-4\n",
    "optimizer = optim.Adam(resnet_model.parameters(), lr=learning_rate)\n",
    "epochs = 50\n",
    "\n",
    "train_losses = []\n",
    "valid_losses = []\n",
    "loss = nn.SmoothL1Loss()\n",
    "\n",
    "train_regression(resnet_model, train_loader, valid_loader, epochs, optimizer, train_losses, valid_losses, device, lr_decay, loss)"
   ]
  },
  {
   "cell_type": "markdown",
   "id": "ff51ff41",
   "metadata": {},
   "source": [
    "## Plot training loss"
   ]
  },
  {
   "cell_type": "code",
   "execution_count": 7,
   "id": "c8ef8836",
   "metadata": {},
   "outputs": [
    {
     "data": {
      "image/png": "[encoded data removed]",
      "text/plain": [
       "<Figure size 1200x600 with 2 Axes>"
      ]
     },
     "metadata": {},
     "output_type": "display_data"
    }
   ],
   "source": [
    "tl = np.asarray(train_losses).ravel()\n",
    "vl = np.asarray(valid_losses).ravel()\n",
    "plt.figure(figsize=(12,6))\n",
    "plt.subplot(1,2,1)\n",
    "plt.plot(tl)\n",
    "plt.legend(['Train Loss'])\n",
    "plt.subplot(1,2,2)\n",
    "plt.plot(vl,'orange')\n",
    "plt.legend(['Valid Loss'])\n",
    "plt.show()"
   ]
  }
 ],
 "metadata": {
  "kernelspec": {
   "display_name": "Python 3 (ipykernel)",
   "language": "python",
   "name": "python3"
  },
  "language_info": {
   "codemirror_mode": {
    "name": "ipython",
    "version": 3
   },
   "file_extension": ".py",
   "mimetype": "text/x-python",
   "name": "python",
   "nbconvert_exporter": "python",
   "pygments_lexer": "ipython3",
   "version": "3.10.6"
  }
 },
 "nbformat": 4,
 "nbformat_minor": 5
}
