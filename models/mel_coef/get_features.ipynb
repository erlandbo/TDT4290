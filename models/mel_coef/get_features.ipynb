{
 "cells": [
  {
   "cell_type": "code",
   "execution_count": null,
   "metadata": {},
   "outputs": [],
   "source": [
    "import numpy as np\n",
    "from glob import glob\n",
    "import pandas as pd \n",
    "import librosa\n",
    "import matplotlib.pyplot as plt"
   ]
  },
  {
   "cell_type": "code",
   "execution_count": null,
   "metadata": {},
   "outputs": [],
   "source": [
    "FOLDER_PATH = '../../data/splitted_audio/*'\n",
    "DATA_PATHS = [\n",
    "    {\"audio\" : \"../../data/audio_27092022_1.WAV\", \"lidar\" : \"../../data/lidar_data_with_audio_timestamps_27_09_22_1.csv\"}, \n",
    "    {\"audio\" : \"../../data/audio_27092022_2.WAV\", \"lidar\" : \"../../data/lidar_data_with_audio_timestamps_27_09_22_2.csv\"},\n",
    "]\n",
    "SAMPLING_RATE = 32000\n",
    "TRAIN_SIZE = 1000"
   ]
  },
  {
   "cell_type": "code",
   "execution_count": null,
   "metadata": {},
   "outputs": [],
   "source": [
    "audio_files = glob(FOLDER_PATH)\n",
    "loaded_audio_files = []\n",
    "audio_files = audio_files[0:-1]\n",
    "audio_files\n"
   ]
  },
  {
   "cell_type": "code",
   "execution_count": null,
   "metadata": {},
   "outputs": [],
   "source": [
    "def load_sound():\n",
    "    for i in range(len(audio_files)):\n",
    "        if (i%100==0):\n",
    "            print(f'{i} of {len(audio_files)} loaded')\n",
    "        s, sr = librosa.load(audio_files[i])\n",
    "        loaded_audio_files.append(s)"
   ]
  },
  {
   "cell_type": "code",
   "execution_count": null,
   "metadata": {},
   "outputs": [],
   "source": [
    "def find_zero_crossings():\n",
    "    print(\"finding zero crossing rate\")\n",
    "    crossings = []\n",
    "    for i in range(len(loaded_audio_files)):\n",
    "        if (i%100==0):\n",
    "            print(f'{i} of {len(audio_files)} loaded')\n",
    "        zero_crossing=librosa.zero_crossings(loaded_audio_files[i])\n",
    "        crossings.append(sum(zero_crossing))\n",
    "    print(\"DONE with zero crossings\")\n",
    "    return crossings"
   ]
  },
  {
   "cell_type": "code",
   "execution_count": null,
   "metadata": {},
   "outputs": [],
   "source": [
    "def find_MFFC():\n",
    "    print(\"Finding MFCC vectors\")\n",
    "    mfcc_coef = []\n",
    "    for i in range(len(loaded_audio_files)):\n",
    "        if (i%100==0):\n",
    "            print(f'{i} of {len(loaded_audio_files)} loaded')\n",
    "        mfcc_coef.append(mffc_extractor(loaded_audio_files[i]))\n",
    "    return mfcc_coef\n",
    "\n",
    "\n",
    "def mffc_extractor(file):\n",
    "    mfccs_features = librosa.feature.mfcc(y=file, sr=SAMPLING_RATE)\n",
    "    mfccs_scaled_features = np.mean(mfccs_features.T, axis=0)\n",
    "    return mfccs_scaled_features\n"
   ]
  },
  {
   "cell_type": "code",
   "execution_count": null,
   "metadata": {},
   "outputs": [],
   "source": [
    "def build_feature_frame():\n",
    "    load_sound()\n",
    "    df = pd.read_csv(\"../../data/splitted_audio/full_data_270922.csv\")    \n",
    "    df[\"zero_crossing\"] = find_zero_crossings()\n",
    "    mfcc = pd.DataFrame(find_MFFC())\n",
    "    df = df.merge(mfcc, left_index=True, right_index=True)\n",
    "    return df    \n",
    "    \n",
    "df = build_feature_frame()\n",
    "df"
   ]
  },
  {
   "cell_type": "code",
   "execution_count": null,
   "metadata": {},
   "outputs": [],
   "source": [
    "def find_spectral_centroid():\n",
    "    spectrals = []\n",
    "    for i in range(len(loaded_audio_files)):\n",
    "        spec_cent=librosa.feature.spectral_centroid(loaded_audio_files[i])\n",
    "        "
   ]
  },
  {
   "cell_type": "code",
   "execution_count": null,
   "metadata": {},
   "outputs": [],
   "source": [
    "%pip install pycaret"
   ]
  },
  {
   "cell_type": "code",
   "execution_count": null,
   "metadata": {},
   "outputs": [],
   "source": [
    "data = df.drop([\"height\",\"class_1\",\"class_2\",\"audio_start_s\",\"audio_end_s\", \"Unnamed: 0\"], axis = 1)\n",
    "find_height = df.drop([\"width\",\"class_1\",\"class_2\",\"audio_start_s\",\"audio_end_s\", \"Unnamed: 0\"], axis = 1)\n",
    "#width.to_csv(\"train_width\")\n",
    "#find_height.to_csv(\"train_height\")\n",
    "\n",
    "train = data.iloc[:TRAIN_SIZE,:]\n",
    "test = data.iloc[TRAIN_SIZE:,:]\n",
    "average_furartion = np.mean(train[\"duration\"])\n",
    "average_furartion"
   ]
  },
  {
   "cell_type": "code",
   "execution_count": null,
   "metadata": {},
   "outputs": [],
   "source": [
    "train_duration = pd.DataFrame(loaded_audio_files)\n",
    "train_duration = np.abs(train_duration)\n",
    "train_duration"
   ]
  },
  {
   "cell_type": "code",
   "execution_count": null,
   "metadata": {},
   "outputs": [],
   "source": [
    "train_duration[\"duration\"] = data[\"duration\"]\n",
    "train_duration[\"duration\"]\n"
   ]
  },
  {
   "cell_type": "code",
   "execution_count": null,
   "metadata": {},
   "outputs": [],
   "source": [
    "from pycaret.regression import *\n"
   ]
  },
  {
   "cell_type": "code",
   "execution_count": null,
   "metadata": {},
   "outputs": [],
   "source": [
    "#numeric = train_duration.drop([\"duration\"], axis=1 ).columns\n",
    "S = setup(train, target=\"width\",\n",
    " #numeric_features=numeric \n",
    " )\n",
    "best = compare_models()"
   ]
  },
  {
   "cell_type": "code",
   "execution_count": null,
   "metadata": {},
   "outputs": [],
   "source": [
    "def mape(y_test, pred):\n",
    "    y_test, pred = np.array(y_test), np.array(pred)\n",
    "    mape = np.mean(np.abs((y_test - pred) / y_test))\n",
    "    return mape"
   ]
  },
  {
   "cell_type": "code",
   "execution_count": null,
   "metadata": {},
   "outputs": [],
   "source": [
    "def rmsle(y_true, y_pred):\n",
    "    \"\"\"\n",
    "    Computes the Root Mean Squared Logarithmic Error \n",
    "    \n",
    "    Args:\n",
    "        y_true (np.array): n-dimensional vector of ground-truth values \n",
    "        y_pred (np.array): n-dimensional vecotr of predicted values \n",
    "    \n",
    "    Returns:\n",
    "        A scalar float with the rmsle value \n",
    "    \n",
    "    Note: You can alternatively use sklearn and just do: \n",
    "        `sklearn.metrics.mean_squared_log_error(y_true, y_pred) ** 0.5`\n",
    "    \"\"\"\n",
    "    assert (y_true >= 0).all(), 'Received negative y_true values'\n",
    "    assert (y_pred >= 0).all(), 'Received negative y_pred values'\n",
    "    assert y_true.shape == y_pred.shape, 'y_true and y_pred have different shapes'\n",
    "    y_true_log1p = np.log1p(y_true)  # log(1 + y_true)\n",
    "    y_pred_log1p = np.log1p(y_pred)  # log(1 + y_pred)\n",
    "    return np.sqrt(np.mean(np.square(y_pred_log1p - y_true_log1p)))\n",
    "\n",
    "y_test_pred = best.predict(test.drop([\"width\"], axis=1))\n",
    "y_true = test.width.values\n",
    "print(f'actual prediction REMSLE: {rmsle(y_true, y_test_pred):.4f}')\n",
    "print(f'actual prediction MAPE: {mape(y_true, y_test_pred):.4f}')\n"
   ]
  },
  {
   "cell_type": "code",
   "execution_count": null,
   "metadata": {},
   "outputs": [],
   "source": [
    "from sklearn.metrics import mean_absolute_error\n",
    "\n",
    "print(\"pred: \", mean_absolute_error(y_true, y_test_pred))\n",
    "#print(\"average: \", mean_absolute_error([average_furartion for i in range(len(train))], train[\"duration\"] ))"
   ]
  },
  {
   "cell_type": "code",
   "execution_count": null,
   "metadata": {},
   "outputs": [],
   "source": [
    "S_1 = setup(train.drop([\"duration\"], axis=1), target=\"width\")"
   ]
  },
  {
   "cell_type": "code",
   "execution_count": null,
   "metadata": {},
   "outputs": [],
   "source": [
    "best_1 =compare_models()"
   ]
  },
  {
   "cell_type": "code",
   "execution_count": null,
   "metadata": {},
   "outputs": [],
   "source": [
    "y_test_pred = best_1.predict(test.drop([\"width\", \"duration\"], axis=1))\n",
    "y_true = test.width.values\n",
    "print(\"MAE:\" ,mean_absolute_error(y_test_pred, y_true))"
   ]
  },
  {
   "cell_type": "code",
   "execution_count": null,
   "metadata": {},
   "outputs": [],
   "source": [
    "import sklearn\n",
    "\n",
    "x = loaded_audio_files[12]\n",
    "spectral_centroids = librosa.feature.spectral_centroid(x, sr = SAMPLING_RATE)[0]\n",
    "#spectral_centroids.shape(775, )\n",
    "# Computing the time variable\n",
    "#for visualization\n",
    "plt.figure(figsize = (12, 4))\n",
    "frames = range(len(spectral_centroids))\n",
    "print(len(frames))\n",
    "t = librosa.frames_to_time(frames)\n",
    "# Normalising the spectral centroid\n",
    "#for visualisation\n",
    "def normalize(x, axis = 0):\n",
    "  return sklearn.preprocessing.minmax_scale(x, axis = axis)\n",
    "#Plotting the Spectral Centroid along the waveform\n",
    "librosa.display.waveshow(x, sr = SAMPLING_RATE)\n",
    "plt.plot(t, normalize(spectral_centroids), color = 'b')"
   ]
  },
  {
   "cell_type": "code",
   "execution_count": null,
   "metadata": {},
   "outputs": [],
   "source": [
    "spectral_bandwidth_2 = librosa.feature.spectral_bandwidth(x + 0.01, sr = SAMPLING_RATE)[0]\n",
    "spectral_bandwidth_3 = librosa.feature.spectral_bandwidth(x + 0.01, sr = SAMPLING_RATE, p = 3)[0]\n",
    "spectral_bandwidth_4 = librosa.feature.spectral_bandwidth(x + 0.01, sr = SAMPLING_RATE, p = 4)[0]\n",
    "plt.figure(figsize = (15, 9))\n",
    "librosa.display.waveshow(x, sr = SAMPLING_RATE, alpha = 0.4)\n",
    "plt.plot(t, normalize(spectral_bandwidth_2), color = 'r')\n",
    "plt.plot(t, normalize(spectral_bandwidth_3), color = 'g')\n",
    "plt.plot(t, normalize(spectral_bandwidth_4), color = 'y')"
   ]
  },
  {
   "cell_type": "code",
   "execution_count": null,
   "metadata": {},
   "outputs": [],
   "source": [
    "k = loaded_audio_files[105]\n",
    "S1 = np.abs(librosa.stft(m))\n",
    "imgdb = librosa.display.specshow(librosa.power_to_db(S1**2, ref=np.max),\n",
    "                                 sr=32000, y_axis='log', x_axis='time')\n",
    "plt.plot()"
   ]
  }
 ],
 "metadata": {
  "kernelspec": {
   "display_name": "Python 3.8.2 64-bit",
   "language": "python",
   "name": "python3"
  },
  "language_info": {
   "codemirror_mode": {
    "name": "ipython",
    "version": 3
   },
   "file_extension": ".py",
   "mimetype": "text/x-python",
   "name": "python",
   "nbconvert_exporter": "python",
   "pygments_lexer": "ipython3",
   "version": "3.8.2"
  },
  "orig_nbformat": 4,
  "vscode": {
   "interpreter": {
    "hash": "570feb405e2e27c949193ac68f46852414290d515b0ba6e5d90d076ed2284471"
   }
  }
 },
 "nbformat": 4,
 "nbformat_minor": 2
}
