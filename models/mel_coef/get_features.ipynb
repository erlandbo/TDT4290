{
 "cells": [
  {
   "cell_type": "code",
   "execution_count": 1,
   "metadata": {},
   "outputs": [],
   "source": [
    "import numpy as np\n",
    "from glob import glob\n",
    "import pandas as pd \n",
    "import librosa\n",
    "import matplotlib.pyplot as plt"
   ]
  },
  {
   "cell_type": "code",
   "execution_count": 2,
   "metadata": {},
   "outputs": [],
   "source": [
    "FOLDER_PATH = '../../data/splitted_audio/*'\n",
    "DATA_PATHS = [\n",
    "    {\"audio\" : \"../../data/audio_27092022_1.WAV\", \"lidar\" : \"../../data/lidar_data_with_audio_timestamps_27_09_22_1.csv\"}, \n",
    "    {\"audio\" : \"../../data/audio_27092022_2.WAV\", \"lidar\" : \"../../data/lidar_data_with_audio_timestamps_27_09_22_2.csv\"},\n",
    "]\n",
    "SAMPLING_RATE = 32000\n",
    "TRAIN_SIZE = 1000"
   ]
  },
  {
   "cell_type": "code",
   "execution_count": 3,
   "metadata": {},
   "outputs": [
    {
     "data": {
      "text/plain": [
       "1197"
      ]
     },
     "execution_count": 3,
     "metadata": {},
     "output_type": "execute_result"
    }
   ],
   "source": [
    "audio_files = glob(FOLDER_PATH)\n",
    "loaded_audio_files = []\n",
    "len(audio_files)"
   ]
  },
  {
   "cell_type": "code",
   "execution_count": 4,
   "metadata": {},
   "outputs": [],
   "source": [
    "def load_sound():\n",
    "    for i in range(len(audio_files)):\n",
    "        if (i%100==0):\n",
    "            print(f'{i} of {len(audio_files)} loaded')\n",
    "        s, sr = librosa.load(audio_files[i])\n",
    "        loaded_audio_files.append(s)"
   ]
  },
  {
   "cell_type": "code",
   "execution_count": 5,
   "metadata": {},
   "outputs": [],
   "source": [
    "def find_zero_crossings():\n",
    "    print(\"finding zero crossing rate\")\n",
    "    crossings = []\n",
    "    for i in range(len(loaded_audio_files)):\n",
    "        if (i%100==0):\n",
    "            print(f'{i} of {len(audio_files)} loaded')\n",
    "        zero_crossing=librosa.zero_crossings(loaded_audio_files[i])\n",
    "        crossings.append(sum(zero_crossing))\n",
    "    print(\"DONE with zero crossings\")\n",
    "    return crossings"
   ]
  },
  {
   "cell_type": "code",
   "execution_count": 6,
   "metadata": {},
   "outputs": [],
   "source": [
    "def find_MFFC():\n",
    "    print(\"Finding MFCC vectors\")\n",
    "    mfcc_coef = []\n",
    "    for i in range(len(loaded_audio_files)):\n",
    "        if (i%100==0):\n",
    "            print(f'{i} of {len(loaded_audio_files)} loaded')\n",
    "        mfcc_coef.append(mffc_extractor(loaded_audio_files[i]))\n",
    "    return mfcc_coef\n",
    "\n",
    "\n",
    "def mffc_extractor(file):\n",
    "    mfccs_features = librosa.feature.mfcc(y=file, sr=SAMPLING_RATE)\n",
    "    mfccs_scaled_features = np.mean(mfccs_features.T, axis=0)\n",
    "    return mfccs_scaled_features\n"
   ]
  },
  {
   "cell_type": "code",
   "execution_count": 7,
   "metadata": {},
   "outputs": [
    {
     "name": "stdout",
     "output_type": "stream",
     "text": [
      "0 of 1197 loaded\n",
      "100 of 1197 loaded\n",
      "200 of 1197 loaded\n",
      "300 of 1197 loaded\n",
      "400 of 1197 loaded\n",
      "500 of 1197 loaded\n",
      "600 of 1197 loaded\n",
      "700 of 1197 loaded\n",
      "800 of 1197 loaded\n",
      "900 of 1197 loaded\n",
      "1000 of 1197 loaded\n",
      "1100 of 1197 loaded\n",
      "finding zero crossing rate\n",
      "0 of 1197 loaded\n",
      "100 of 1197 loaded\n",
      "200 of 1197 loaded\n",
      "300 of 1197 loaded\n",
      "400 of 1197 loaded\n",
      "500 of 1197 loaded\n",
      "600 of 1197 loaded\n",
      "700 of 1197 loaded\n",
      "800 of 1197 loaded\n",
      "900 of 1197 loaded\n",
      "1000 of 1197 loaded\n",
      "1100 of 1197 loaded\n",
      "DONE with zero crossings\n"
     ]
    },
    {
     "ename": "ValueError",
     "evalue": "Length of values (1197) does not match length of index (2498)",
     "output_type": "error",
     "traceback": [
      "\u001b[1;31m---------------------------------------------------------------------------\u001b[0m",
      "\u001b[1;31mValueError\u001b[0m                                Traceback (most recent call last)",
      "\u001b[1;32mc:\\Users\\Rasmu\\OneDrive\\Dokumenter\\Høst 2022\\Kundestyrt\\Prosjekt\\TDT4290\\models\\mel_coef\\get_features.ipynb Cell 7\u001b[0m in \u001b[0;36m<cell line: 13>\u001b[1;34m()\u001b[0m\n\u001b[0;32m     <a href='vscode-notebook-cell:/c%3A/Users/Rasmu/OneDrive/Dokumenter/H%C3%B8st%202022/Kundestyrt/Prosjekt/TDT4290/models/mel_coef/get_features.ipynb#W6sZmlsZQ%3D%3D?line=9'>10</a>\u001b[0m     df \u001b[39m=\u001b[39m df\u001b[39m.\u001b[39mmerge(mfcc, left_index\u001b[39m=\u001b[39m\u001b[39mTrue\u001b[39;00m, right_index\u001b[39m=\u001b[39m\u001b[39mTrue\u001b[39;00m)\n\u001b[0;32m     <a href='vscode-notebook-cell:/c%3A/Users/Rasmu/OneDrive/Dokumenter/H%C3%B8st%202022/Kundestyrt/Prosjekt/TDT4290/models/mel_coef/get_features.ipynb#W6sZmlsZQ%3D%3D?line=10'>11</a>\u001b[0m     \u001b[39mreturn\u001b[39;00m df\n\u001b[1;32m---> <a href='vscode-notebook-cell:/c%3A/Users/Rasmu/OneDrive/Dokumenter/H%C3%B8st%202022/Kundestyrt/Prosjekt/TDT4290/models/mel_coef/get_features.ipynb#W6sZmlsZQ%3D%3D?line=12'>13</a>\u001b[0m df \u001b[39m=\u001b[39m build_feature_frame()\n\u001b[0;32m     <a href='vscode-notebook-cell:/c%3A/Users/Rasmu/OneDrive/Dokumenter/H%C3%B8st%202022/Kundestyrt/Prosjekt/TDT4290/models/mel_coef/get_features.ipynb#W6sZmlsZQ%3D%3D?line=13'>14</a>\u001b[0m df\u001b[39m.\u001b[39mhead()\n",
      "\u001b[1;32mc:\\Users\\Rasmu\\OneDrive\\Dokumenter\\Høst 2022\\Kundestyrt\\Prosjekt\\TDT4290\\models\\mel_coef\\get_features.ipynb Cell 7\u001b[0m in \u001b[0;36mbuild_feature_frame\u001b[1;34m()\u001b[0m\n\u001b[0;32m      <a href='vscode-notebook-cell:/c%3A/Users/Rasmu/OneDrive/Dokumenter/H%C3%B8st%202022/Kundestyrt/Prosjekt/TDT4290/models/mel_coef/get_features.ipynb#W6sZmlsZQ%3D%3D?line=5'>6</a>\u001b[0m load_sound()\n\u001b[0;32m      <a href='vscode-notebook-cell:/c%3A/Users/Rasmu/OneDrive/Dokumenter/H%C3%B8st%202022/Kundestyrt/Prosjekt/TDT4290/models/mel_coef/get_features.ipynb#W6sZmlsZQ%3D%3D?line=6'>7</a>\u001b[0m df \u001b[39m=\u001b[39m pd\u001b[39m.\u001b[39mconcat(\u001b[39mmap\u001b[39m(pd\u001b[39m.\u001b[39mread_csv, CSV_PATHS), ignore_index\u001b[39m=\u001b[39m\u001b[39mTrue\u001b[39;00m)\n\u001b[1;32m----> <a href='vscode-notebook-cell:/c%3A/Users/Rasmu/OneDrive/Dokumenter/H%C3%B8st%202022/Kundestyrt/Prosjekt/TDT4290/models/mel_coef/get_features.ipynb#W6sZmlsZQ%3D%3D?line=7'>8</a>\u001b[0m df[\u001b[39m\"\u001b[39;49m\u001b[39mzero_crossing\u001b[39;49m\u001b[39m\"\u001b[39;49m] \u001b[39m=\u001b[39m find_zero_crossings()\n\u001b[0;32m      <a href='vscode-notebook-cell:/c%3A/Users/Rasmu/OneDrive/Dokumenter/H%C3%B8st%202022/Kundestyrt/Prosjekt/TDT4290/models/mel_coef/get_features.ipynb#W6sZmlsZQ%3D%3D?line=8'>9</a>\u001b[0m mfcc \u001b[39m=\u001b[39m pd\u001b[39m.\u001b[39mDataFrame(find_MFFC())\n\u001b[0;32m     <a href='vscode-notebook-cell:/c%3A/Users/Rasmu/OneDrive/Dokumenter/H%C3%B8st%202022/Kundestyrt/Prosjekt/TDT4290/models/mel_coef/get_features.ipynb#W6sZmlsZQ%3D%3D?line=9'>10</a>\u001b[0m df \u001b[39m=\u001b[39m df\u001b[39m.\u001b[39mmerge(mfcc, left_index\u001b[39m=\u001b[39m\u001b[39mTrue\u001b[39;00m, right_index\u001b[39m=\u001b[39m\u001b[39mTrue\u001b[39;00m)\n",
      "File \u001b[1;32m~\\AppData\\Local\\Packages\\PythonSoftwareFoundation.Python.3.10_qbz5n2kfra8p0\\LocalCache\\local-packages\\Python310\\site-packages\\pandas\\core\\frame.py:3655\u001b[0m, in \u001b[0;36mDataFrame.__setitem__\u001b[1;34m(self, key, value)\u001b[0m\n\u001b[0;32m   3652\u001b[0m     \u001b[39mself\u001b[39m\u001b[39m.\u001b[39m_setitem_array([key], value)\n\u001b[0;32m   3653\u001b[0m \u001b[39melse\u001b[39;00m:\n\u001b[0;32m   3654\u001b[0m     \u001b[39m# set column\u001b[39;00m\n\u001b[1;32m-> 3655\u001b[0m     \u001b[39mself\u001b[39;49m\u001b[39m.\u001b[39;49m_set_item(key, value)\n",
      "File \u001b[1;32m~\\AppData\\Local\\Packages\\PythonSoftwareFoundation.Python.3.10_qbz5n2kfra8p0\\LocalCache\\local-packages\\Python310\\site-packages\\pandas\\core\\frame.py:3832\u001b[0m, in \u001b[0;36mDataFrame._set_item\u001b[1;34m(self, key, value)\u001b[0m\n\u001b[0;32m   3822\u001b[0m \u001b[39mdef\u001b[39;00m \u001b[39m_set_item\u001b[39m(\u001b[39mself\u001b[39m, key, value) \u001b[39m-\u001b[39m\u001b[39m>\u001b[39m \u001b[39mNone\u001b[39;00m:\n\u001b[0;32m   3823\u001b[0m     \u001b[39m\"\"\"\u001b[39;00m\n\u001b[0;32m   3824\u001b[0m \u001b[39m    Add series to DataFrame in specified column.\u001b[39;00m\n\u001b[0;32m   3825\u001b[0m \n\u001b[1;32m   (...)\u001b[0m\n\u001b[0;32m   3830\u001b[0m \u001b[39m    ensure homogeneity.\u001b[39;00m\n\u001b[0;32m   3831\u001b[0m \u001b[39m    \"\"\"\u001b[39;00m\n\u001b[1;32m-> 3832\u001b[0m     value \u001b[39m=\u001b[39m \u001b[39mself\u001b[39;49m\u001b[39m.\u001b[39;49m_sanitize_column(value)\n\u001b[0;32m   3834\u001b[0m     \u001b[39mif\u001b[39;00m (\n\u001b[0;32m   3835\u001b[0m         key \u001b[39min\u001b[39;00m \u001b[39mself\u001b[39m\u001b[39m.\u001b[39mcolumns\n\u001b[0;32m   3836\u001b[0m         \u001b[39mand\u001b[39;00m value\u001b[39m.\u001b[39mndim \u001b[39m==\u001b[39m \u001b[39m1\u001b[39m\n\u001b[0;32m   3837\u001b[0m         \u001b[39mand\u001b[39;00m \u001b[39mnot\u001b[39;00m is_extension_array_dtype(value)\n\u001b[0;32m   3838\u001b[0m     ):\n\u001b[0;32m   3839\u001b[0m         \u001b[39m# broadcast across multiple columns if necessary\u001b[39;00m\n\u001b[0;32m   3840\u001b[0m         \u001b[39mif\u001b[39;00m \u001b[39mnot\u001b[39;00m \u001b[39mself\u001b[39m\u001b[39m.\u001b[39mcolumns\u001b[39m.\u001b[39mis_unique \u001b[39mor\u001b[39;00m \u001b[39misinstance\u001b[39m(\u001b[39mself\u001b[39m\u001b[39m.\u001b[39mcolumns, MultiIndex):\n",
      "File \u001b[1;32m~\\AppData\\Local\\Packages\\PythonSoftwareFoundation.Python.3.10_qbz5n2kfra8p0\\LocalCache\\local-packages\\Python310\\site-packages\\pandas\\core\\frame.py:4535\u001b[0m, in \u001b[0;36mDataFrame._sanitize_column\u001b[1;34m(self, value)\u001b[0m\n\u001b[0;32m   4532\u001b[0m     \u001b[39mreturn\u001b[39;00m _reindex_for_setitem(value, \u001b[39mself\u001b[39m\u001b[39m.\u001b[39mindex)\n\u001b[0;32m   4534\u001b[0m \u001b[39mif\u001b[39;00m is_list_like(value):\n\u001b[1;32m-> 4535\u001b[0m     com\u001b[39m.\u001b[39;49mrequire_length_match(value, \u001b[39mself\u001b[39;49m\u001b[39m.\u001b[39;49mindex)\n\u001b[0;32m   4536\u001b[0m \u001b[39mreturn\u001b[39;00m sanitize_array(value, \u001b[39mself\u001b[39m\u001b[39m.\u001b[39mindex, copy\u001b[39m=\u001b[39m\u001b[39mTrue\u001b[39;00m, allow_2d\u001b[39m=\u001b[39m\u001b[39mTrue\u001b[39;00m)\n",
      "File \u001b[1;32m~\\AppData\\Local\\Packages\\PythonSoftwareFoundation.Python.3.10_qbz5n2kfra8p0\\LocalCache\\local-packages\\Python310\\site-packages\\pandas\\core\\common.py:557\u001b[0m, in \u001b[0;36mrequire_length_match\u001b[1;34m(data, index)\u001b[0m\n\u001b[0;32m    553\u001b[0m \u001b[39m\"\"\"\u001b[39;00m\n\u001b[0;32m    554\u001b[0m \u001b[39mCheck the length of data matches the length of the index.\u001b[39;00m\n\u001b[0;32m    555\u001b[0m \u001b[39m\"\"\"\u001b[39;00m\n\u001b[0;32m    556\u001b[0m \u001b[39mif\u001b[39;00m \u001b[39mlen\u001b[39m(data) \u001b[39m!=\u001b[39m \u001b[39mlen\u001b[39m(index):\n\u001b[1;32m--> 557\u001b[0m     \u001b[39mraise\u001b[39;00m \u001b[39mValueError\u001b[39;00m(\n\u001b[0;32m    558\u001b[0m         \u001b[39m\"\u001b[39m\u001b[39mLength of values \u001b[39m\u001b[39m\"\u001b[39m\n\u001b[0;32m    559\u001b[0m         \u001b[39mf\u001b[39m\u001b[39m\"\u001b[39m\u001b[39m(\u001b[39m\u001b[39m{\u001b[39;00m\u001b[39mlen\u001b[39m(data)\u001b[39m}\u001b[39;00m\u001b[39m) \u001b[39m\u001b[39m\"\u001b[39m\n\u001b[0;32m    560\u001b[0m         \u001b[39m\"\u001b[39m\u001b[39mdoes not match length of index \u001b[39m\u001b[39m\"\u001b[39m\n\u001b[0;32m    561\u001b[0m         \u001b[39mf\u001b[39m\u001b[39m\"\u001b[39m\u001b[39m(\u001b[39m\u001b[39m{\u001b[39;00m\u001b[39mlen\u001b[39m(index)\u001b[39m}\u001b[39;00m\u001b[39m)\u001b[39m\u001b[39m\"\u001b[39m\n\u001b[0;32m    562\u001b[0m     )\n",
      "\u001b[1;31mValueError\u001b[0m: Length of values (1197) does not match length of index (2498)"
     ]
    }
   ],
   "source": [
    "def build_feature_frame():\n",
    "    csvs = []\n",
    "    for path in DATA_PATHS:\n",
    "        df = pd.read_csv(path[\"lidar\"])\n",
    "        y, sr = librosa.load(path[\"audio\"], sr=None)\n",
    "        audio_length = librosa.get_duration(y=y, sr=sr)\n",
    "        df =df[(df[\"audio_start_s\"] >= 0) & (df[\"audio_end_s\"] <= audio_length)]\n",
    "\n",
    "    load_sound()\n",
    "    df = pd.concat(map(pd.read_csv, CSV_PATHS), ignore_index=True)\n",
    "    \n",
    "    df[\"zero_crossing\"] = find_zero_crossings()\n",
    "    mfcc = pd.DataFrame(find_MFFC())\n",
    "    df = df.merge(mfcc, left_index=True, right_index=True)\n",
    "    return df\n",
    "\n",
    "df = build_feature_frame()\n",
    "df.head()"
   ]
  },
  {
   "cell_type": "code",
   "execution_count": null,
   "metadata": {},
   "outputs": [],
   "source": [
    "def find_spectral_centroid():\n",
    "    spectrals = []\n",
    "    for i in range(len(loaded_audio_files)):\n",
    "        spec_cent=librosa.feature.spectral_centroid(loaded_audio_files[i])\n",
    "        "
   ]
  },
  {
   "cell_type": "code",
   "execution_count": null,
   "metadata": {},
   "outputs": [],
   "source": [
    "%pip install pre pycaret"
   ]
  },
  {
   "cell_type": "code",
   "execution_count": null,
   "metadata": {},
   "outputs": [],
   "source": [
    "data = df.drop([\"height\",\"class_1\",\"class_2\",\"audio_start_s\",\"audio_end_s\", \"Unnamed: 0\"], axis = 1)\n",
    "find_height = df.drop([\"width\",\"class_1\",\"class_2\",\"audio_start_s\",\"audio_end_s\", \"Unnamed: 0\"], axis = 1)\n",
    "#width.to_csv(\"train_width\")\n",
    "#find_height.to_csv(\"train_height\")\n",
    "\n",
    "train = data.iloc[:TRAIN_SIZE,:]\n",
    "test = data.iloc[TRAIN_SIZE:,:]\n",
    "average_furartion = np.mean(train[\"duration\"])\n",
    "average_furartion"
   ]
  },
  {
   "cell_type": "code",
   "execution_count": null,
   "metadata": {},
   "outputs": [],
   "source": [
    "train_duration = pd.DataFrame(loaded_audio_files)\n",
    "train_duration = np.abs(train_duration)\n",
    "train_duration"
   ]
  },
  {
   "cell_type": "code",
   "execution_count": null,
   "metadata": {},
   "outputs": [],
   "source": [
    "train_duration[\"duration\"] = data[\"duration\"]\n",
    "train_duration[\"duration\"]\n"
   ]
  },
  {
   "cell_type": "code",
   "execution_count": null,
   "metadata": {},
   "outputs": [],
   "source": [
    "from pycaret.regression import *\n",
    "#S_duration = setup(train, target=\"width\")\n",
    "#best_duration = compare_models()"
   ]
  },
  {
   "cell_type": "code",
   "execution_count": null,
   "metadata": {},
   "outputs": [],
   "source": [
    "def prepare_song(song_path):\n",
    "  list_matrices = []\n",
    "  for song_piece in loaded_audio_files:\n",
    "    melspect = librosa.feature.melspectrogram(song_piece)\n",
    "    list_matrices.append(melspect)\n",
    "  return list_matrices"
   ]
  },
  {
   "cell_type": "code",
   "execution_count": null,
   "metadata": {},
   "outputs": [],
   "source": [
    "#numeric = train_duration.drop([\"duration\"], axis=1 ).columns\n",
    "S = setup(train_duration, target=\"duration\",\n",
    " #numeric_features=numeric \n",
    " )\n",
    "best = compare_models()"
   ]
  },
  {
   "cell_type": "code",
   "execution_count": null,
   "metadata": {},
   "outputs": [],
   "source": [
    "#evaluate_model(best)\n",
    "blender = blend_models(best)"
   ]
  },
  {
   "cell_type": "code",
   "execution_count": null,
   "metadata": {},
   "outputs": [],
   "source": [
    "# Predict on the test set \n",
    "y_test_pred = best.predict(test.drop([\"width\"], axis=1))\n",
    "\n",
    "# Generate submission dataframe \n",
    "# NOTE: It is important that the ID and predicted values match\n",
    "submission = pd.DataFrame()\n",
    "#submission['id'] = width_test.id\n",
    "submission['predicted'] = np.asarray(y_test_pred)\n",
    "\n",
    "# Save it to disk (`index=False` means don't save the index in the csv)\n",
    "#submission.to_csv('sample_submission.csv', index=False)\n",
    "for i in range(len(y_true)):\n",
    "    if y_true[i] > 55:\n",
    "        print(\"actual: \", y_true[i],\"guess: \" ,y_test_pred[i], \"diff:\", abs(y_true[i]- y_test_pred[i]))\n",
    "    "
   ]
  },
  {
   "cell_type": "code",
   "execution_count": null,
   "metadata": {},
   "outputs": [],
   "source": [
    "def mape(y_test, pred):\n",
    "    y_test, pred = np.array(y_test), np.array(pred)\n",
    "    mape = np.mean(np.abs((y_test - pred) / y_test))\n",
    "    return mape"
   ]
  },
  {
   "cell_type": "code",
   "execution_count": null,
   "metadata": {},
   "outputs": [],
   "source": [
    "def rmsle(y_true, y_pred):\n",
    "    \"\"\"\n",
    "    Computes the Root Mean Squared Logarithmic Error \n",
    "    \n",
    "    Args:\n",
    "        y_true (np.array): n-dimensional vector of ground-truth values \n",
    "        y_pred (np.array): n-dimensional vecotr of predicted values \n",
    "    \n",
    "    Returns:\n",
    "        A scalar float with the rmsle value \n",
    "    \n",
    "    Note: You can alternatively use sklearn and just do: \n",
    "        `sklearn.metrics.mean_squared_log_error(y_true, y_pred) ** 0.5`\n",
    "    \"\"\"\n",
    "    assert (y_true >= 0).all(), 'Received negative y_true values'\n",
    "    assert (y_pred >= 0).all(), 'Received negative y_pred values'\n",
    "    assert y_true.shape == y_pred.shape, 'y_true and y_pred have different shapes'\n",
    "    y_true_log1p = np.log1p(y_true)  # log(1 + y_true)\n",
    "    y_pred_log1p = np.log1p(y_pred)  # log(1 + y_pred)\n",
    "    return np.sqrt(np.mean(np.square(y_pred_log1p - y_true_log1p)))\n",
    "\n",
    "\n",
    "\n",
    "# Calculate rmsle for a few example predictions \n",
    "y_true = test.width.values\n",
    "n = len(y_test_pred)\n",
    "mean = np.array([np.mean(y_true) for _ in range(n)])\n",
    "print('A couple of RMSLE scores computed over the train set')\n",
    "print(f'Perfect prediction: {rmsle(y_true, y_true):.4f}')\n",
    "print(f'All average prediciton: {rmsle(y_true, mean):.4f}')\n",
    "print(f'All ones prediction: {rmsle(y_true, np.ones(n)):.4f}')\n",
    "print(f'actual prediction: {rmsle(y_true, y_test_pred):.4f}')\n",
    "print(f'actual prediction: {mape(y_true, y_test_pred):.4f}')\n"
   ]
  },
  {
   "cell_type": "code",
   "execution_count": null,
   "metadata": {},
   "outputs": [],
   "source": [
    "from sklearn.metrics import mean_absolute_error\n",
    "\n",
    "#print(\"pred: \", mean_absolute_error(y_true, y_test_pred))\n",
    "print(\"average: \", mean_absolute_error([average_furartion for i in range(len(train))], train[\"duration\"] ))"
   ]
  },
  {
   "cell_type": "code",
   "execution_count": null,
   "metadata": {},
   "outputs": [],
   "source": [
    "from scipy.signal import savgol_filter\n",
    "\n",
    "sound = loaded_audio_files[4]\n",
    "wawe_form = np.abs(sound)\n",
    "yhat = savgol_filter(wawe_form, 5001, 2)\n",
    "S = librosa.magphase(librosa.stft(sound, window=np.ones, center=False))[0]\n",
    "k =librosa.feature.rms(S=S, center=True)\n",
    "times = librosa.times_like(k)\n",
    "plt.plot(times, k[0])\n",
    "#plt.plot(wawe_form)\n",
    "\n",
    "#for i in find_length_of_audio(sound):\n",
    "#    plt.axvline(x=i, color=\"red\")\n",
    "\n",
    "print(data[\"duration\"].loc[4],)"
   ]
  },
  {
   "cell_type": "code",
   "execution_count": null,
   "metadata": {},
   "outputs": [],
   "source": [
    "thershold, error"
   ]
  },
  {
   "cell_type": "code",
   "execution_count": null,
   "metadata": {},
   "outputs": [],
   "source": [
    "pred_length = []\n",
    "for i in range(len(loaded_audio_files)):\n",
    "    pred_length.append(find_length_of_audio(loaded_audio_files[i])) \n",
    "\n"
   ]
  },
  {
   "cell_type": "code",
   "execution_count": null,
   "metadata": {},
   "outputs": [],
   "source": [
    "train[\"duration\"] = pred_length[0:1000]\n",
    "train"
   ]
  },
  {
   "cell_type": "code",
   "execution_count": null,
   "metadata": {},
   "outputs": [],
   "source": [
    "S = setup(train,target=\"width\", session_id=1234 )\n"
   ]
  },
  {
   "cell_type": "code",
   "execution_count": null,
   "metadata": {},
   "outputs": [],
   "source": [
    "best = compare_models(exclude=[\"llar\", \"dummy\"])"
   ]
  },
  {
   "cell_type": "code",
   "execution_count": null,
   "metadata": {},
   "outputs": [],
   "source": [
    "# Predict on the test set \n",
    "y_test_pred = best.predict(test.drop([\"width\"], axis=1))\n",
    "\n",
    "# Generate submission dataframe \n",
    "# NOTE: It is important that the ID and predicted values match\n",
    "submission = pd.DataFrame()\n",
    "#submission['id'] = width_test.id\n",
    "submission['predicted'] = np.asarray(y_test_pred)\n",
    "\n",
    "# Save it to disk (`index=False` means don't save the index in the csv)\n",
    "#submission.to_csv('sample_submission.csv', index=False)\n",
    "for i in range(len(y_true)):\n",
    "    if y_true[i] > 55:\n",
    "        print(\"actual: \", y_true[i],\"guess: \" ,y_test_pred[i], \"diff:\", abs(y_true[i]- y_test_pred[i]))\n",
    "    "
   ]
  },
  {
   "cell_type": "code",
   "execution_count": null,
   "metadata": {},
   "outputs": [],
   "source": [
    "import sklearn\n",
    "\n",
    "x = loaded_audio_files[12]\n",
    "spectral_centroids = librosa.feature.spectral_centroid(x, sr = SAMPLING_RATE)[0]\n",
    "#spectral_centroids.shape(775, )\n",
    "# Computing the time variable\n",
    "#for visualization\n",
    "plt.figure(figsize = (12, 4))\n",
    "frames = range(len(spectral_centroids))\n",
    "print(len(frames))\n",
    "t = librosa.frames_to_time(frames)\n",
    "# Normalising the spectral centroid\n",
    "#for visualisation\n",
    "def normalize(x, axis = 0):\n",
    "  return sklearn.preprocessing.minmax_scale(x, axis = axis)\n",
    "#Plotting the Spectral Centroid along the waveform\n",
    "librosa.display.waveshow(x, sr = SAMPLING_RATE)\n",
    "plt.plot(t, normalize(spectral_centroids), color = 'b')"
   ]
  },
  {
   "cell_type": "code",
   "execution_count": null,
   "metadata": {},
   "outputs": [],
   "source": [
    "spectral_bandwidth_2 = librosa.feature.spectral_bandwidth(x + 0.01, sr = SAMPLING_RATE)[0]\n",
    "spectral_bandwidth_3 = librosa.feature.spectral_bandwidth(x + 0.01, sr = SAMPLING_RATE, p = 3)[0]\n",
    "spectral_bandwidth_4 = librosa.feature.spectral_bandwidth(x + 0.01, sr = SAMPLING_RATE, p = 4)[0]\n",
    "plt.figure(figsize = (15, 9))\n",
    "librosa.display.waveshow(x, sr = SAMPLING_RATE, alpha = 0.4)\n",
    "plt.plot(t, normalize(spectral_bandwidth_2), color = 'r')\n",
    "plt.plot(t, normalize(spectral_bandwidth_3), color = 'g')\n",
    "plt.plot(t, normalize(spectral_bandwidth_4), color = 'y')"
   ]
  },
  {
   "cell_type": "code",
   "execution_count": null,
   "metadata": {},
   "outputs": [],
   "source": [
    "k = loaded_audio_files[105]\n",
    "S1 = np.abs(librosa.stft(m))\n",
    "imgdb = librosa.display.specshow(librosa.power_to_db(S1**2, ref=np.max),\n",
    "                                 sr=32000, y_axis='log', x_axis='time')\n",
    "plt.plot()"
   ]
  }
 ],
 "metadata": {
  "kernelspec": {
   "display_name": "Python 3.10.8 64-bit (microsoft store)",
   "language": "python",
   "name": "python3"
  },
  "language_info": {
   "codemirror_mode": {
    "name": "ipython",
    "version": 3
   },
   "file_extension": ".py",
   "mimetype": "text/x-python",
   "name": "python",
   "nbconvert_exporter": "python",
   "pygments_lexer": "ipython3",
   "version": "3.10.8"
  },
  "orig_nbformat": 4,
  "vscode": {
   "interpreter": {
    "hash": "b5a6488b8599fe905752c0fc9d71d8859503ad5ab97b380072e1d11887ede082"
   }
  }
 },
 "nbformat": 4,
 "nbformat_minor": 2
}
