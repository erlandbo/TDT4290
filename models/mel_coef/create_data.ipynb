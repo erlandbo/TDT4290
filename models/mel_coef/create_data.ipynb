{
 "cells": [
  {
   "cell_type": "code",
   "execution_count": null,
   "metadata": {},
   "outputs": [],
   "source": [
    "import pandas as pd \n",
    "import numpy as np \n",
    "import librosa\n",
    "import soundfile as sf"
   ]
  },
  {
   "cell_type": "code",
   "execution_count": null,
   "metadata": {},
   "outputs": [],
   "source": [
    "data = [ \n",
    "    {\"audio\": '../../data/audio_27092022_1.WAV', \"lidar_log\": \"../../data/lidar_data_with_audio_timestamps_27_09_22_1.csv\"},\n",
    "    {\"audio\": '../../data/audio_27092022_2.WAV', \"lidar_log\": \"../../data/lidar_data_with_audio_timestamps_27_09_22_2.csv\"},\n",
    "    ]\n",
    "SR=16000"
   ]
  },
  {
   "cell_type": "code",
   "execution_count": null,
   "metadata": {},
   "outputs": [],
   "source": []
  },
  {
   "cell_type": "code",
   "execution_count": null,
   "metadata": {},
   "outputs": [],
   "source": [
    "def get_audio(path):\n",
    "    print(\"Started loading audio\")\n",
    "    audio_clips = []\n",
    "\n",
    "    audio, sr = librosa.load(path, sr = SR)\n",
    "    audio_clips.append((audio))\n",
    "    print(len(audio), \"done\")\n",
    "    return audio"
   ]
  },
  {
   "cell_type": "code",
   "execution_count": null,
   "metadata": {},
   "outputs": [],
   "source": [
    "def split_audio(audio, timestamps, window, audio_file_path):\n",
    "    \n",
    "    data1 = timestamps.copy()\n",
    "    data1[\"filename\"] = None\n",
    "    for i, row in timestamps.iterrows():\n",
    "        height, width,duration,  class_1, class_2, start, end = row.values\n",
    "        start = int((start-window)*SR)\n",
    "        end = int((end+window)*SR)\n",
    "        sf.write('../../data/splitted_audio/{}_{}.wav'.format(audio_file_path, i), audio[start:end], SR, 'PCM_24')\n",
    "        data1.loc[i, 'filename'] = '{}_{}.wav'.format(audio_file_path, i)\n",
    "    return data1"
   ]
  },
  {
   "cell_type": "code",
   "execution_count": null,
   "metadata": {},
   "outputs": [
    {
     "name": "stdout",
     "output_type": "stream",
     "text": [
      "(440, 7)\n",
      "(440, 7)\n",
      "(824, 7)\n",
      "(1264, 7)\n"
     ]
    }
   ],
   "source": [
    "SR=32000\n",
    "def create_dataset():\n",
    "    start_index=0\n",
    "    k = 0\n",
    "    for dataset in data:\n",
    "        audio_file_path = dataset[\"audio\"]\n",
    "        y, sr = librosa.load(audio_file_path, sr=SR)\n",
    "        audio_length = librosa.get_duration(y=y, sr=sr)\n",
    "        \n",
    "        lidar_log = pd.read_csv(dataset[\"lidar_log\"])\n",
    "        lidar_log = lidar_log[[\"height\", \"width\", \"duration\", \"class_1\", \"class_2\", \"audio_start_s\", \"audio_end_s\"]]\n",
    "        lidar_log = lidar_log[(lidar_log[\"audio_start_s\"] >= 0) & (lidar_log[\"audio_end_s\"] <= audio_length)]\n",
    "        \n",
    "        print(lidar_log.shape)\n",
    "        files = split_audio(y,lidar_log, window=0.25, audio_file_path=audio_file_path)\n",
    "        start_index += len(lidar_log)\n",
    "        if not isinstance(k, pd.DataFrame):\n",
    "            k = pd.DataFrame(lidar_log)\n",
    "        else:\n",
    "            k = pd.concat([k, lidar_log], axis=0)\n",
    "        \n",
    "        print(k.shape)\n",
    "\n",
    "    k.to_csv(\"../../data/splitted_audio/full_data_270922.csv\")\n",
    "\n",
    "create_dataset()"
   ]
  }
 ],
 "metadata": {
  "kernelspec": {
   "display_name": "Python 3.10.8 64-bit (microsoft store)",
   "language": "python",
   "name": "python3"
  },
  "language_info": {
   "codemirror_mode": {
    "name": "ipython",
    "version": 3
   },
   "file_extension": ".py",
   "mimetype": "text/x-python",
   "name": "python",
   "nbconvert_exporter": "python",
   "pygments_lexer": "ipython3",
   "version": "3.10.8"
  },
  "orig_nbformat": 4,
  "vscode": {
   "interpreter": {
    "hash": "b5a6488b8599fe905752c0fc9d71d8859503ad5ab97b380072e1d11887ede082"
   }
  }
 },
 "nbformat": 4,
 "nbformat_minor": 2
}
