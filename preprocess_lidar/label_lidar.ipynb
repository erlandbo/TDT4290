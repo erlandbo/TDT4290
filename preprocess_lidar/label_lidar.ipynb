{
 "cells": [
  {
   "cell_type": "code",
   "execution_count": null,
   "metadata": {},
   "outputs": [],
   "source": [
    "\n",
    "import pandas as pd\n",
    "import json\n",
    "import librosa\n",
    "from datetime import datetime\n",
    "from typing import List\n",
    "import pandas as pd\n",
    "from src import timestamp_lidar, classify_lidar, parse_lidar, label_lidar\n",
    "import librosa.display\n",
    "\n",
    "from IPython.display import Audio"
   ]
  },
  {
   "cell_type": "code",
   "execution_count": null,
   "metadata": {},
   "outputs": [],
   "source": [
    "sample_rate = 32000\n",
    "audio_start = pd.to_datetime(\"2022-09-22 10:05:10.0000\")\n",
    "# first_car_enter_audio_time = pd.Timedelta(\"00:00:10.608\")\n",
    "audio_end = pd.Timedelta(\"00:00:10.608\")\n",
    "\n",
    "#step 1 - Read lidar log\n",
    "lidar_data = parse_lidar(\"../data/lidar_log_grilstad_22.09.22_10_00_13_00.txt\")\n",
    "#step 2 - Classify lidar\n",
    "classified_lidar = classify_lidar(lidar_data)\n",
    "#step 3 - link with audio\n",
    "labeled = timestamp_lidar(\n",
    "        classified_lidar,\n",
    "        audio_start,\n",
    "        audio_length=pd.Timedelta(\"02:32:58\"),\n",
    "    )\n",
    "labeled"
   ]
  },
  {
   "cell_type": "code",
   "execution_count": null,
   "metadata": {},
   "outputs": [],
   "source": [
    "# renames\n",
    "def rename_lidar_columns(df: pd.DataFrame, filename: str):\n",
    "    new_df = df.filter([\"audio_start_s\", \"audio_end_s\", \"class_1\"])\n",
    "    new_df[\"filename\"] = filename\n",
    "    return new_df.rename(\n",
    "        columns={\n",
    "            \"audio_start_s\": \"onset\",\n",
    "            \"audio_end_s\": \"offset\",\n",
    "            \"class_1\": \"event_label\",\n",
    "        }\n",
    "    )\n",
    "rename_lidar_columns(labeled, \"lidar_data_with_audio_timestamps_22.csv\")\n"
   ]
  },
  {
   "cell_type": "code",
   "execution_count": null,
   "metadata": {},
   "outputs": [],
   "source": [
    "# Load labeled data into file\n",
    "labeled.to_csv(\"../data/lidar_data_with_audio_timestamps_22.csv\")"
   ]
  },
  {
   "cell_type": "code",
   "execution_count": null,
   "metadata": {},
   "outputs": [],
   "source": [
    "# same for data samples the 27. september part 1\n",
    "audio_start_2 = pd.to_datetime(\"2022-09-27 12:20:15.774\")\n",
    "#step 1 - Read lidar log\n",
    "lidar_data_2 = parse_lidar(\"../data/lidar_log_grilstad_27.09.22_12_00_17_00.txt\")\n",
    "#step 2 - Classify lidar\n",
    "classified_lidar_2 = classify_lidar(lidar_data_2)\n",
    "#step 3 - link with audio\n",
    "labeled_2 = timestamp_lidar(\n",
    "        classified_lidar_2,\n",
    "        audio_start_2,\n",
    "        audio_length=pd.Timedelta(\"01:49:10\"),\n",
    "    )\n",
    "labeled_2.to_csv(\"../data/lidar_data_with_audio_timestamps_27_1.csv\")\n",
    "labeled_2"
   ]
  },
  {
   "cell_type": "code",
   "execution_count": null,
   "metadata": {},
   "outputs": [],
   "source": [
    "\n",
    "# same for data samples the 27. september part 2\n",
    "audio_start_3 = pd.to_datetime(\"2022-09-27 14:11:59.999\")\n",
    "#step 1 - Read lidar log\n",
    "lidar_data_3 = parse_lidar(\"../data/lidar_log_grilstad_27.09.22_12_00_17_00.txt\")\n",
    "#step 2 - Classify lidar\n",
    "classified_lidar_3 = classify_lidar(lidar_data_3)\n",
    "#step 3 - link with audio\n",
    "labeled_3 = timestamp_lidar(\n",
    "        classified_lidar_3,\n",
    "        audio_start_3,\n",
    "        audio_length=pd.Timedelta(\"01:56:52\")\n",
    "    )\n",
    "# labeled_3 = label_lidar(filename=\"data/lidar_log_grilstad_27.09.22_12_00_17_00.txt\", \n",
    "#     audio_start=pd.to_datetime(\"2022-09-27 14:11:59.999\")\n",
    "#     audio_length=pd.Timedelta(\"01:56:52\"))\n",
    "\n",
    "labeled_3.to_csv(\"../data/lidar_data_with_audio_timestamps_27_2.csv\")\n",
    "labeled_3"
   ]
  },
  {
   "cell_type": "code",
   "execution_count": null,
   "metadata": {},
   "outputs": [],
   "source": [
    "\n",
    "# same for data samples the 21. october \n",
    "audio_start_4 = pd.to_datetime(\"2022-10-21 09:18:36\")\n",
    "#step 1 - Read lidar log\n",
    "lidar_data_4 = parse_lidar(\"../data/lidar_log_grilstad_21.10.22_09_00_14_00.txt\")\n",
    "#step 2 - Classify lidar\n",
    "classified_lidar_4 = classify_lidar(lidar_data_4)\n",
    "#step 3 - link with audio\n",
    "labeled_4 = timestamp_lidar(\n",
    "        classified_lidar_4,\n",
    "        audio_start_4,\n",
    "        audio_length=pd.Timedelta(\"02:19:17\"),\n",
    "    )\n",
    "labeled_4.to_csv(\"../data/lidar_data_with_audio_timestamps_oct_21_1.csv\")\n",
    "labeled_4"
   ]
  },
  {
   "cell_type": "code",
   "execution_count": null,
   "metadata": {},
   "outputs": [],
   "source": [
    "\n",
    "\n",
    "# same for data samples the 21. october \n",
    "audio_start_5 = pd.to_datetime(\"2022-10-21 11:40:11\")\n",
    "#step 1 - Read lidar log\n",
    "lidar_data_5 = parse_lidar(\"../data/lidar_log_grilstad_21.10.22_09_00_14_00.txt\")\n",
    "#step 2 - Classify lidar\n",
    "classified_lidar_5 = classify_lidar(lidar_data_5)\n",
    "#step 3 - link with audio\n",
    "labeled_5 = timestamp_lidar(\n",
    "        classified_lidar_5,\n",
    "        audio_start_5,\n",
    "        audio_length=pd.Timedelta(\"01:31:24\"),\n",
    "    )\n",
    "\n",
    "labeled_5.to_csv(\"../data/lidar_data_with_audio_timestamps_oct_21_2.csv\")\n",
    "labeled_5"
   ]
  },
  {
   "cell_type": "code",
   "execution_count": 33,
   "metadata": {},
   "outputs": [],
   "source": [
    "sound, sr = librosa.load(\"../.data/audio_21102022_1.WAV\", sr=sample_rate, mono=True)\n",
    "print(\"Sound length\", len(sound))"
   ]
  },
  {
   "cell_type": "code",
   "execution_count": null,
   "metadata": {},
   "outputs": [],
   "source": [
    "\n",
    "sound2, sr2 = librosa.load(\"../.data/audio_21102022_2.WAV\", sr=sample_rate, mono=True)\n",
    "print(\"Sound length\", len(sound2))"
   ]
  },
  {
   "cell_type": "code",
   "execution_count": null,
   "metadata": {},
   "outputs": [],
   "source": [
    "32000 * 60 * 60 * 2.5"
   ]
  },
  {
   "cell_type": "code",
   "execution_count": null,
   "metadata": {},
   "outputs": [],
   "source": [
    "start, end = int(labeled_5[\"audio_start_s\"][600] * sr), int(labeled_5[\"audio_end_s\"][600] * sr)\n",
    "print(start, end)\n",
    "print(labeled_5.loc[600])\n",
    "# diff = end - start\n",
    "# new_start = int((start + diff/2) - 1 * 32000)\n",
    "# new_end = int((end - diff/2) + 1 * 32000)\n",
    "# part = sound[new_start:new_end]\n",
    "# start, end = 8482912, 8569056\n",
    "part = sound2[start:end]\n",
    "Audio(data=part, rate=sample_rate)"
   ]
  }
 ],
 "metadata": {
  "kernelspec": {
   "display_name": "Python 3 (ipykernel)",
   "language": "python",
   "name": "python3"
  },
  "language_info": {
   "codemirror_mode": {
    "name": "ipython",
    "version": 3
   },
   "file_extension": ".py",
   "mimetype": "text/x-python",
   "name": "python",
   "nbconvert_exporter": "python",
   "pygments_lexer": "ipython3",
   "version": "3.10.6"
  },
  "orig_nbformat": 4,
  "vscode": {
   "interpreter": {
    "hash": "3e7b1c6fb458c76f0d265f4b8949676ebdde303e58d11a2ce6ae307dc3e51d4d"
   }
  }
 },
 "nbformat": 4,
 "nbformat_minor": 2
}
